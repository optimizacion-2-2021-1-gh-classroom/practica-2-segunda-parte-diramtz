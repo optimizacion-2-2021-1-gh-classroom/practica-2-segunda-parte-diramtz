{
 "cells": [
  {
   "cell_type": "markdown",
   "id": "fa6c9c5b",
   "metadata": {},
   "source": [
    "# Reimplementación con Cython"
   ]
  },
  {
   "cell_type": "markdown",
   "id": "bd3571d4",
   "metadata": {},
   "source": [
    "## Características de la instancia"
   ]
  },
  {
   "cell_type": "markdown",
   "id": "a1c86b0c",
   "metadata": {},
   "source": [
    "Se utilizó una máquina **t2.2xlarge** en lugar de una m4.16xlarge porque la cuenta de educate de aws que utilizamos no tenía permiso para levantar instancias de tipo m4. Sin embargo, buscamos y encontramos que las t2 y las m4 eran muy similares entre ellas por lo que nos decidimos por utlilzar la más grande de las tipo t2. La máquina t2.2xlarge tiene las siguientes características:"
   ]
  },
  {
   "cell_type": "code",
   "execution_count": 1,
   "id": "6aadf381",
   "metadata": {},
   "outputs": [
    {
     "name": "stdout",
     "output_type": "stream",
     "text": [
      "Architecture:                    x86_64\n",
      "CPU op-mode(s):                  32-bit, 64-bit\n",
      "Byte Order:                      Little Endian\n",
      "Address sizes:                   46 bits physical, 48 bits virtual\n",
      "CPU(s):                          8\n",
      "On-line CPU(s) list:             0-7\n",
      "Thread(s) per core:              1\n",
      "Core(s) per socket:              8\n",
      "Socket(s):                       1\n",
      "NUMA node(s):                    1\n",
      "Vendor ID:                       GenuineIntel\n",
      "CPU family:                      6\n",
      "Model:                           79\n",
      "Model name:                      Intel(R) Xeon(R) CPU E5-2686 v4 @ 2.30GHz\n",
      "Stepping:                        1\n",
      "CPU MHz:                         2299.854\n",
      "BogoMIPS:                        4600.11\n",
      "Hypervisor vendor:               Xen\n",
      "Virtualization type:             full\n",
      "L1d cache:                       256 KiB\n",
      "L1i cache:                       256 KiB\n",
      "L2 cache:                        2 MiB\n",
      "L3 cache:                        45 MiB\n",
      "NUMA node0 CPU(s):               0-7\n",
      "Vulnerability Itlb multihit:     KVM: Vulnerable\n",
      "Vulnerability L1tf:              Mitigation; PTE Inversion\n",
      "Vulnerability Mds:               Vulnerable: Clear CPU buffers attempted, no microcode; SMT Host state unknown\n",
      "Vulnerability Meltdown:          Mitigation; PTI\n",
      "Vulnerability Spec store bypass: Vulnerable\n",
      "Vulnerability Spectre v1:        Mitigation; usercopy/swapgs barriers and __user pointer sanitization\n",
      "Vulnerability Spectre v2:        Mitigation; Full generic retpoline, STIBP disabled, RSB filling\n",
      "Vulnerability Srbds:             Not affected\n",
      "Vulnerability Tsx async abort:   Not affected\n",
      "Flags:                           fpu vme de pse tsc msr pae mce cx8 apic sep mtrr pge mca cmov pat pse36 clflush mmx fxsr sse sse2 ht syscall nx pdpe1gb rdtscp lm constant_tsc rep_good nopl xtopology cpuid pni pclmulqdq ssse3 fma cx16 pcid sse4_1 sse4_2 x2apic movbe popcnt tsc_deadline_timer aes xsave avx f16c rdrand hypervisor lahf_lm abm cpuid_fault invpcid_single pti fsgsbase bmi1 avx2 smep bmi2 erms invpcid xsaveopt\n"
     ]
    }
   ],
   "source": [
    "%%bash\n",
    "lscpu"
   ]
  },
  {
   "cell_type": "code",
   "execution_count": 2,
   "id": "94edf486",
   "metadata": {},
   "outputs": [
    {
     "name": "stdout",
     "output_type": "stream",
     "text": [
      "  *-firmware\n",
      "       description: BIOS\n",
      "       vendor: Xen\n",
      "       physical id: 0\n",
      "       version: 4.2.amazon\n",
      "       date: 08/24/2006\n",
      "       size: 96KiB\n",
      "       capabilities: pci edd\n",
      "  *-memory\n",
      "       description: System Memory\n",
      "       physical id: 1000\n",
      "       size: 32GiB\n",
      "       capabilities: ecc\n",
      "       configuration: errordetection=multi-bit-ecc\n",
      "     *-bank:0\n",
      "          description: DIMM RAM\n",
      "          physical id: 0\n",
      "          slot: DIMM 0\n",
      "          size: 16GiB\n",
      "          width: 64 bits\n",
      "     *-bank:1\n",
      "          description: DIMM RAM\n",
      "          physical id: 1\n",
      "          slot: DIMM 1\n",
      "          size: 16GiB\n",
      "          width: 64 bits\n"
     ]
    }
   ],
   "source": [
    "%%bash\n",
    "sudo lshw -C memory"
   ]
  },
  {
   "cell_type": "code",
   "execution_count": 3,
   "id": "31259dc7",
   "metadata": {},
   "outputs": [
    {
     "name": "stdout",
     "output_type": "stream",
     "text": [
      "Linux ip-10-0-0-4 5.4.0-1038-aws #40-Ubuntu SMP Fri Feb 5 23:50:40 UTC 2021 x86_64 x86_64 x86_64 GNU/Linux\n"
     ]
    }
   ],
   "source": [
    "%%bash\n",
    "uname -ar #r for kernel, a for all"
   ]
  },
  {
   "cell_type": "markdown",
   "id": "e5fc4707",
   "metadata": {},
   "source": [
    "## Cython: Iteración 0"
   ]
  },
  {
   "cell_type": "markdown",
   "id": "03367c1d",
   "metadata": {},
   "source": [
    "Para utilizar Cython recordemos que son necesarios 3 archivos:\n",
    "\n",
    "1.El código que será compilado en un archivo con extensión .pyx (escrito en Python)\n",
    "    \n",
    "2.Un archivo setup.py que contiene las instrucciones para llamar a Cython y se encarga de crear el módulo compilado.\n",
    "  \n",
    "3.El código escrito en Python que importará el módulo compilado."
   ]
  },
  {
   "cell_type": "markdown",
   "id": "ad888211",
   "metadata": {},
   "source": [
    "### Creación del archivo con extensión .pyx\n",
    "Copiamos y pegamos el código robustecido de la parte 1 de esta práctica 2."
   ]
  },
  {
   "cell_type": "code",
   "execution_count": 39,
   "id": "2159eef2",
   "metadata": {},
   "outputs": [
    {
     "name": "stdout",
     "output_type": "stream",
     "text": [
      "Overwriting scripts/ffmax_0.pyx\n"
     ]
    }
   ],
   "source": [
    "%%file scripts/ffmax_0.pyx\n",
    "class vertex:\n",
    "    \"\"\"\n",
    "    A vertex in a network.\n",
    "    Attributes:\n",
    "        name (string): name or identifier of vertex\n",
    "        source (bool): whether the vertex is a source vertex or not\n",
    "        sink (bool): whether the vertex is a sink vertex or not\n",
    "    \"\"\"\n",
    "\n",
    "    def __init__(self, name, source=False, sink=False):\n",
    "        self.name = name\n",
    "        self.source = source\n",
    "        self.sink = sink\n",
    "\n",
    "class edge:\n",
    "    \"\"\"\n",
    "    An edge in a netwokt, going from one vertex to another\n",
    "    Attributes:\n",
    "        start (vertex): the edge comes out of this vertex\n",
    "        end (vertex): the edge arrives at this vertex\n",
    "        capacity (float): edge's maximum flow capacity\n",
    "        flow (float): current flow in the edge\n",
    "        returnEdge (pointer): return edge which is used in the residual graph\n",
    "    \"\"\"\n",
    "\n",
    "    def __init__(self, start, end, capacity):\n",
    "        self.start = start\n",
    "        self.end = end\n",
    "        self.capacity = capacity\n",
    "        self.flow = 0\n",
    "        self.returnEdge = None\n",
    "\n",
    "class create_flow_network:\n",
    "    \"\"\"\n",
    "    A flow network to which we want to find the maximum flow posible going\n",
    "    from one vertex to another.\n",
    "    Attributes:\n",
    "       vertices (list): lists all of vertices in the graph\n",
    "       network (dictionary): maps every vertex's name to all of the edges\n",
    "                             coming out of the said vertex\n",
    "    \"\"\"\n",
    "    def __init__(self):\n",
    "        self.vertices = []\n",
    "        self.network = {}\n",
    "\n",
    "    def get_source(self):\n",
    "        \"\"\"\n",
    "        Finds the source vertex in the list of vertices in the network.\n",
    "        \"\"\"\n",
    "        for vertex in self.vertices:\n",
    "            if vertex.source == True:\n",
    "                return vertex\n",
    "\n",
    "        return None\n",
    "\n",
    "    def get_sink(self):\n",
    "        \"\"\"\n",
    "        Finds the sink vertex in the list of vertices in the flow network.\n",
    "        \"\"\"\n",
    "        for vertex in self.vertices:\n",
    "            if vertex.sink == True:\n",
    "                return vertex\n",
    "\n",
    "        return None\n",
    "\n",
    "    def get_vertex(self, name):\n",
    "        \"\"\"\n",
    "        Takes a vertex name finds it in the lists of vertices of the\n",
    "        object of class create_flow_network.\n",
    "        Args:\n",
    "            name (string): name or identifier of vertex\n",
    "        Returns:\n",
    "            vertex (vertex): object of class vertex corresponding to the\n",
    "                             input vertex name.\n",
    "        \"\"\"\n",
    "        for vertex in self.vertices:\n",
    "            if name == vertex.name:\n",
    "                return vertex\n",
    "\n",
    "    def vertex_in_network(self, name):\n",
    "        \"\"\"\n",
    "        Verifies if a certain vertex is in the list of vertices of the flow\n",
    "        network.\n",
    "        Args:\n",
    "            name (string): name or identifier of vertex.\n",
    "        Returns:\n",
    "            (bool): if the vertex is in the network or not.\n",
    "        \"\"\"\n",
    "        for vertex in self.vertices:\n",
    "            if vertex.name == name:\n",
    "                return True\n",
    "\n",
    "        return False\n",
    "\n",
    "    def get_edges(self):\n",
    "        \"\"\"\n",
    "        Takes information from the network vertices and gets a list of all\n",
    "        the edges going in and out of this vertices.\n",
    "        Returns:\n",
    "            allEdges (list): list of all vertices in the flow network.\n",
    "        \"\"\"\n",
    "        allEdges = []\n",
    "        for vertex in self.network:\n",
    "            for edge in self.network[vertex]:\n",
    "                allEdges.append(edge)\n",
    "\n",
    "        return allEdges\n",
    "\n",
    "    def create_vertex(self, name, source=False, sink=False):\n",
    "        \"\"\"\n",
    "        Creates and adds a vertex to the network after it checks various\n",
    "        error cases to ensure that the vertex can be added.\n",
    "        Args:\n",
    "            name (string): name or identifier of vertex_in_network\n",
    "            source (bool): whether the vertex to add is source or not\n",
    "            sink (bool): whether the vertex to add is sink or not\n",
    "        Returns:\n",
    "            (string): error message when error arises\n",
    "        \"\"\"\n",
    "        if source == True and sink == True:\n",
    "            return \"El nodo {} no puede ser origen y destino\".format(name)\n",
    "\n",
    "        if self.vertex_in_network(name):\n",
    "            return \"Nodo duplicado\"\n",
    "\n",
    "        if source == True:\n",
    "            if self.get_source() != None:\n",
    "                return \"Ya existe nodo origen\"\n",
    "\n",
    "        if sink == True:\n",
    "            if self.get_sink() != None:\n",
    "                return \"Ya existe nodo destino\"\n",
    "\n",
    "        newVertex = vertex(name, source, sink)\n",
    "        self.vertices.append(newVertex)\n",
    "        self.network[newVertex.name] = []\n",
    "\n",
    "    def create_edge(self, start, end, capacity):\n",
    "        \"\"\"\n",
    "        Creates and adds a new edge to the flow network with capacity of 0\n",
    "        by first checking the start and end vertices of said edge to\n",
    "        verify that the are not the same vertex and that they are both in\n",
    "        the network.\n",
    "        Args:\n",
    "            start (vertex): start vertex of the new edge\n",
    "            end (vertex): end vertex of the new edge\n",
    "            capacity (float): capcity of the new edge\n",
    "        Returns:\n",
    "            (string): error message when error arises\n",
    "        \"\"\"\n",
    "\n",
    "        if self.vertex_in_network(start) == False:\n",
    "            print(\"Nodo origen ya ha sido agregado. \\n El cálculo de flujo máximo continúa con el primer valor asignado al nodo orígen.\")\n",
    "\n",
    "        elif self.vertex_in_network(end) == False:\n",
    "            print(\"Nodo destino ya ha sido agregado. \\n El cálculo del flujo máximo continúa con el primer valor asignado al nodo destino.\")\n",
    "        \n",
    "        elif start == end:\n",
    "            print(\"No se pueden tener bucles. \\n El cálculo de flujo máximo continuará sin tomar en cuenta este arco.\")\n",
    "          \n",
    "        else:\n",
    "            newEdge = edge(start, end, capacity)\n",
    "            returnEdge = edge(end, start, 0)\n",
    "            newEdge.returnEdge = returnEdge\n",
    "            returnEdge.returnEdge = newEdge\n",
    "            vertex = self.get_vertex(start)\n",
    "            self.network[vertex.name].append(newEdge)\n",
    "            returnVertex = self.get_vertex(end)\n",
    "            self.network[returnVertex.name].append(returnEdge)\n",
    "\n",
    "    def get_path(self, start, end, path):\n",
    "        \"\"\"\n",
    "        Recursive function that walks through the network starting at a certain\n",
    "        vertex and calculates residual capacity for each edge it passes then\n",
    "        uses this residual capacity to define how much flow to send along a\n",
    "        given path. Then repeats this process until it reaches the end of the\n",
    "        flow network.\n",
    "        Args:\n",
    "            start (vertex): start vertex of the new edge\n",
    "            end (vertex): end vertex of the new edge\n",
    "            path (list): list of vertices in a path\n",
    "        Returns:\n",
    "            path (list): list of vertices in a path\n",
    "        \"\"\"\n",
    "\n",
    "        if start == end:\n",
    "            return path\n",
    "\n",
    "        for edge in self.network[start]:\n",
    "            residualCapacity = edge.capacity - edge.flow\n",
    "            if residualCapacity > 0 and not (edge, residualCapacity) in path:\n",
    "                result = self.get_path(edge.end, end, path + [(edge, residualCapacity)])\n",
    "                if result != None:\n",
    "                    return result\n",
    "\n",
    "    def MaxFlow(self):\n",
    "        \"\"\"\n",
    "        Follows the path returned by get_path and gets the maximum flow in the\n",
    "        network. This function implements the Ford Fulkerson method and\n",
    "        calculates the flow while the path is not fully walked. It sums this\n",
    "        flow to the fordward edges and substracts it from the reverse edges.\n",
    "        Then, another path is calculated and we repeat the process.\n",
    "        Returns:\n",
    "            (string): error message when an error in the definition of the\n",
    "                      network occurs.\n",
    "            (float): maximum flow through the network\n",
    "        \"\"\"\n",
    "        source = self.get_source()\n",
    "        sink = self.get_sink()\n",
    "\n",
    "        if source == None or sink == None:\n",
    "            return \"La red no tiene nodo origen y/o destino \"\n",
    "\n",
    "        path = self.get_path(source.name, sink.name, [])\n",
    "        while path != None:\n",
    "            flow = min(edge[1] for edge in path)\n",
    "            for edge, res in path:\n",
    "                edge.flow += flow\n",
    "                edge.returnEdge.flow -= flow\n",
    "            path = self.get_path(source.name, sink.name, [])\n",
    "        return sum(edge.flow for edge in self.network[source.name])\n"
   ]
  },
  {
   "cell_type": "markdown",
   "id": "53783365",
   "metadata": {},
   "source": [
    "### Creación del archivo setup.py"
   ]
  },
  {
   "cell_type": "code",
   "execution_count": 40,
   "id": "998b0a75",
   "metadata": {},
   "outputs": [
    {
     "name": "stdout",
     "output_type": "stream",
     "text": [
      "Overwriting scripts/setup.py\n"
     ]
    }
   ],
   "source": [
    "%%file scripts/setup.py\n",
    "from distutils.core import setup\n",
    "from Cython.Build import cythonize\n",
    "\n",
    "setup(ext_modules = cythonize(\"scripts/ffmax_0.pyx\", \n",
    "                              compiler_directives={'language_level' : 3}))"
   ]
  },
  {
   "cell_type": "markdown",
   "id": "fd80ad3e",
   "metadata": {},
   "source": [
    "### Compilación desde línea de comandos"
   ]
  },
  {
   "cell_type": "code",
   "execution_count": 41,
   "id": "d0308e39",
   "metadata": {},
   "outputs": [
    {
     "name": "stdout",
     "output_type": "stream",
     "text": [
      "Compiling scripts/ffmax_0.pyx because it changed.\n",
      "[1/1] Cythonizing scripts/ffmax_0.pyx\n",
      "running build_ext\n",
      "building 'ffmax_0' extension\n",
      "x86_64-linux-gnu-gcc -pthread -Wno-unused-result -Wsign-compare -DNDEBUG -g -fwrapv -O2 -Wall -g -fstack-protector-strong -Wformat -Werror=format-security -g -fwrapv -O2 -g -fstack-protector-strong -Wformat -Werror=format-security -Wdate-time -D_FORTIFY_SOURCE=2 -fPIC -I/usr/include/python3.8 -c scripts/ffmax_0.c -o build/temp.linux-x86_64-3.8/scripts/ffmax_0.o\n",
      "x86_64-linux-gnu-gcc -pthread -shared -Wl,-O1 -Wl,-Bsymbolic-functions -Wl,-Bsymbolic-functions -Wl,-z,relro -g -fwrapv -O2 -Wl,-Bsymbolic-functions -Wl,-z,relro -g -fwrapv -O2 -g -fstack-protector-strong -Wformat -Werror=format-security -Wdate-time -D_FORTIFY_SOURCE=2 build/temp.linux-x86_64-3.8/scripts/ffmax_0.o -o /home/ubuntu/practica-2-segunda-parte-diramtz/ffmax_0.cpython-38-x86_64-linux-gnu.so\n"
     ]
    }
   ],
   "source": [
    "%%bash\n",
    "python3 scripts/setup.py build_ext --inplace"
   ]
  },
  {
   "cell_type": "markdown",
   "id": "982b3e53",
   "metadata": {},
   "source": [
    "### Importar y probar el módulo\n",
    "Probamos el módulo con nuestro ejemplo base."
   ]
  },
  {
   "cell_type": "code",
   "execution_count": 42,
   "id": "4f9a0dbd",
   "metadata": {},
   "outputs": [],
   "source": [
    "import ffmax_0 as ff\n",
    "import time\n",
    "import networkx as nx\n",
    "from pytest import approx\n",
    "from IPython.display import HTML, display"
   ]
  },
  {
   "cell_type": "code",
   "execution_count": 43,
   "id": "d88dec91",
   "metadata": {},
   "outputs": [],
   "source": [
    "start_time = time.time()\n",
    "\n",
    "red = ff.create_flow_network()\n",
    "\n",
    "red.create_vertex('o', True, False) \n",
    "red.create_vertex('t', False, True) \n",
    "red.create_vertex('a', False, False)\n",
    "red.create_vertex('b', False, False)\n",
    "red.create_vertex('c', False, False)\n",
    "red.create_vertex('d', False, False)\n",
    "red.create_vertex('e', False, False)\n",
    "\n",
    "red.create_edge('o', 'a', 5)\n",
    "red.create_edge('o', 'b', 7)\n",
    "red.create_edge('o', 'c', 4)\n",
    "\n",
    "red.create_edge('a', 'b', 1)\n",
    "red.create_edge('a', 'd', 3)\n",
    "\n",
    "red.create_edge('b', 'c', 2)\n",
    "red.create_edge('b', 'd', 4)\n",
    "red.create_edge('b', 'e', 5)\n",
    "\n",
    "red.create_edge('c', 'e', 4)\n",
    "\n",
    "red.create_edge('d', 't', 9)\n",
    "\n",
    "red.create_edge('e', 'd', 1)\n",
    "red.create_edge('e', 't', 9)\n",
    "\n",
    "red.MaxFlow()\n",
    "\n",
    "end_time = time.time()"
   ]
  },
  {
   "cell_type": "code",
   "execution_count": 44,
   "id": "2b38fe9b",
   "metadata": {},
   "outputs": [
    {
     "name": "stdout",
     "output_type": "stream",
     "text": [
      "El ejemplo base tomó 0.0009171962738037109 segundos\n"
     ]
    }
   ],
   "source": [
    "secs_0 = end_time-start_time\n",
    "print(\"El ejemplo base tomó\",secs_0,\"segundos\" )"
   ]
  },
  {
   "cell_type": "markdown",
   "id": "06db5670",
   "metadata": {},
   "source": [
    "Y verificamos que continuamos resolviendo el problema de manera correcta."
   ]
  },
  {
   "cell_type": "code",
   "execution_count": 45,
   "id": "d040b500",
   "metadata": {},
   "outputs": [],
   "source": [
    "G = nx.DiGraph()\n",
    "\n",
    "G.add_edge('o', 'a', capacity=5)\n",
    "G.add_edge('o', 'b', capacity=7)\n",
    "G.add_edge('o', 'c', capacity=4)\n",
    "\n",
    "G.add_edge('a', 'b', capacity=1)\n",
    "G.add_edge('a', 'd', capacity=3)\n",
    "\n",
    "G.add_edge('b', 'c', capacity=2)\n",
    "G.add_edge('b', 'd', capacity=4)\n",
    "G.add_edge('b', 'e', capacity=5)\n",
    "\n",
    "G.add_edge('c', 'e', capacity=4)\n",
    "\n",
    "G.add_edge('d', 't', capacity=9)\n",
    "\n",
    "G.add_edge('e', 'd', capacity=1)\n",
    "G.add_edge('e', 't', capacity=9)\n",
    "\n",
    "flow_value, flow_dict = nx.maximum_flow(G, 'o', 't')"
   ]
  },
  {
   "cell_type": "code",
   "execution_count": 46,
   "id": "82280819",
   "metadata": {},
   "outputs": [
    {
     "data": {
      "text/plain": [
       "15"
      ]
     },
     "execution_count": 46,
     "metadata": {},
     "output_type": "execute_result"
    }
   ],
   "source": [
    "flow_value"
   ]
  },
  {
   "cell_type": "code",
   "execution_count": 47,
   "id": "7f1b93c8",
   "metadata": {},
   "outputs": [
    {
     "data": {
      "text/plain": [
       "15"
      ]
     },
     "execution_count": 47,
     "metadata": {},
     "output_type": "execute_result"
    }
   ],
   "source": [
    "red.MaxFlow()"
   ]
  },
  {
   "cell_type": "code",
   "execution_count": 48,
   "id": "87d0e734",
   "metadata": {},
   "outputs": [
    {
     "name": "stdout",
     "output_type": "stream",
     "text": [
      "True\n"
     ]
    }
   ],
   "source": [
    "obj = flow_value\n",
    "res = red.MaxFlow()\n",
    "print(res == approx(obj))"
   ]
  },
  {
   "cell_type": "markdown",
   "id": "c5cbb59b",
   "metadata": {},
   "source": [
    "### Análisis del archivo HTML"
   ]
  },
  {
   "cell_type": "code",
   "execution_count": 49,
   "id": "035841a0",
   "metadata": {},
   "outputs": [],
   "source": [
    "%%bash\n",
    "$HOME/.local/bin/cython --force -3 --annotate scripts/ffmax_0.pyx"
   ]
  },
  {
   "cell_type": "code",
   "execution_count": null,
   "id": "785bd885",
   "metadata": {},
   "outputs": [],
   "source": [
    "display(HTML(\"scripts/ffmax_0.html\"))"
   ]
  },
  {
   "cell_type": "markdown",
   "id": "395995a1",
   "metadata": {},
   "source": [
    "## Cython: Iteración 1"
   ]
  },
  {
   "cell_type": "markdown",
   "id": "7de791d4",
   "metadata": {},
   "source": [
    "### Creación del archivo con extensión .pyx\n",
    "Realizamos los cambios a las líneas que detectamos \"son muy amarillas\" en el HTML anterior y las reimplementamos con código en C."
   ]
  },
  {
   "cell_type": "code",
   "execution_count": 51,
   "id": "72ad4d02",
   "metadata": {},
   "outputs": [
    {
     "name": "stdout",
     "output_type": "stream",
     "text": [
      "Overwriting scripts/ffmax_1.pyx\n"
     ]
    }
   ],
   "source": [
    "%%file scripts/ffmax_1.pyx\n",
    "class vertex:\n",
    "    \"\"\"\n",
    "    A vertex in a network.\n",
    "    Attributes:\n",
    "        name (string): name or identifier of vertex\n",
    "        source (bool): whether the vertex is a source vertex or not\n",
    "        sink (bool): whether the vertex is a sink vertex or not\n",
    "    \"\"\"\n",
    "\n",
    "    def __init__(self, name, source=False, sink=False):\n",
    "        self.name = name\n",
    "        self.source = source\n",
    "        self.sink = sink\n",
    "\n",
    "class edge:\n",
    "    \"\"\"\n",
    "    An edge in a netwokt, going from one vertex to another\n",
    "    Attributes:\n",
    "        start (vertex): the edge comes out of this vertex\n",
    "        end (vertex): the edge arrives at this vertex\n",
    "        capacity (float): edge's maximum flow capacity\n",
    "        flow (float): current flow in the edge\n",
    "        returnEdge (pointer): return edge which is used in the residual graph\n",
    "    \"\"\"\n",
    "\n",
    "    def __init__(self, start, end, capacity):\n",
    "        self.start = start\n",
    "        self.end = end\n",
    "        self.capacity = capacity\n",
    "        self.flow = 0\n",
    "        self.returnEdge = None\n",
    "\n",
    "class create_flow_network:\n",
    "    \"\"\"\n",
    "    A flow network to which we want to find the maximum flow posible going\n",
    "    from one vertex to another.\n",
    "    Attributes:\n",
    "       vertices (list): lists all of vertices in the graph\n",
    "       network (dictionary): maps every vertex's name to all of the edges\n",
    "                             coming out of the said vertex\n",
    "    \"\"\"\n",
    "    def __init__(self):\n",
    "        self.vertices = []\n",
    "        self.network = {}\n",
    "\n",
    "    def get_source(self):\n",
    "        \"\"\"\n",
    "        Finds the source vertex in the list of vertices in the network.\n",
    "        \"\"\"\n",
    "        for vertex in self.vertices:\n",
    "            if vertex.source == True:\n",
    "                return vertex\n",
    "\n",
    "        return None\n",
    "\n",
    "    def get_sink(self):\n",
    "        \"\"\"\n",
    "        Finds the sink vertex in the list of vertices in the flow network.\n",
    "        \"\"\"\n",
    "        for vertex in self.vertices:\n",
    "            if vertex.sink == True:\n",
    "                return vertex\n",
    "\n",
    "        return None\n",
    "\n",
    "    def get_vertex(self, name):\n",
    "        \"\"\"\n",
    "        Takes a vertex name finds it in the lists of vertices of the\n",
    "        object of class create_flow_network.\n",
    "        Args:\n",
    "            name (string): name or identifier of vertex\n",
    "        Returns:\n",
    "            vertex (vertex): object of class vertex corresponding to the\n",
    "                             input vertex name.\n",
    "        \"\"\"\n",
    "        for vertex in self.vertices:\n",
    "            if name == vertex.name:\n",
    "                return vertex\n",
    "\n",
    "    def vertex_in_network(self, name):\n",
    "        \"\"\"\n",
    "        Verifies if a certain vertex is in the list of vertices of the flow\n",
    "        network.\n",
    "        Args:\n",
    "            name (string): name or identifier of vertex.\n",
    "        Returns:\n",
    "            (bool): if the vertex is in the network or not.\n",
    "        \"\"\"\n",
    "        for vertex in self.vertices:\n",
    "            if vertex.name == name:\n",
    "                return True\n",
    "\n",
    "        return False\n",
    "\n",
    "    def get_edges(self):\n",
    "        \"\"\"\n",
    "        Takes information from the network vertices and gets a list of all\n",
    "        the edges going in and out of this vertices.\n",
    "        Returns:\n",
    "            allEdges (list): list of all vertices in the flow network.\n",
    "        \"\"\"\n",
    "        allEdges = []\n",
    "        for vertex in self.network:\n",
    "            for edge in self.network[vertex]:\n",
    "                allEdges.append(edge)\n",
    "\n",
    "        return allEdges\n",
    "\n",
    "    def create_vertex(self, name, source=False, sink=False):\n",
    "        \"\"\"\n",
    "        Creates and adds a vertex to the network after it checks various\n",
    "        error cases to ensure that the vertex can be added.\n",
    "        Args:\n",
    "            name (string): name or identifier of vertex_in_network\n",
    "            source (bool): whether the vertex to add is source or not\n",
    "            sink (bool): whether the vertex to add is sink or not\n",
    "        Returns:\n",
    "            (string): error message when error arises\n",
    "        \"\"\"\n",
    "        if source == True and sink == True:\n",
    "            return \"El nodo {} no puede ser origen y destino\".format(name)\n",
    "\n",
    "        if self.vertex_in_network(name):\n",
    "            return \"Nodo duplicado\"\n",
    "\n",
    "        if source == True:\n",
    "            if self.get_source() != None:\n",
    "                return \"Ya existe nodo origen\"\n",
    "\n",
    "        if sink == True:\n",
    "            if self.get_sink() != None:\n",
    "                return \"Ya existe nodo destino\"\n",
    "\n",
    "        newVertex = vertex(name, source, sink)\n",
    "        self.vertices.append(newVertex)\n",
    "        self.network[newVertex.name] = []\n",
    "\n",
    "    def create_edge(self, start, end, double capacity):\n",
    "        \"\"\"\n",
    "        Creates and adds a new edge to the flow network with capacity of 0\n",
    "        by first checking the start and end vertices of said edge to\n",
    "        verify that the are not the same vertex and that they are both in\n",
    "        the network.\n",
    "        Args:\n",
    "            start (vertex): start vertex of the new edge\n",
    "            end (vertex): end vertex of the new edge\n",
    "            capacity (float): capcity of the new edge\n",
    "        Returns:\n",
    "            (string): error message when error arises\n",
    "        \"\"\"\n",
    "\n",
    "        if self.vertex_in_network(start) == False:\n",
    "            print(\"Nodo origen ya ha sido agregado. \\n El cálculo de flujo máximo continúa con el primer valor asignado al nodo orígen.\")\n",
    "\n",
    "        elif self.vertex_in_network(end) == False:\n",
    "            print(\"Nodo destino ya ha sido agregado. \\n El cálculo del flujo máximo continúa con el primer valor asignado al nodo destino.\")\n",
    "        \n",
    "        elif start == end:\n",
    "            print(\"No se pueden tener bucles. \\n El cálculo de flujo máximo continuará sin tomar en cuenta este arco.\")\n",
    "          \n",
    "        else:\n",
    "            newEdge = edge(start, end, capacity)\n",
    "            returnEdge = edge(end, start, 0)\n",
    "            newEdge.returnEdge = returnEdge\n",
    "            returnEdge.returnEdge = newEdge\n",
    "            vertex = self.get_vertex(start)\n",
    "            self.network[vertex.name].append(newEdge)\n",
    "            returnVertex = self.get_vertex(end)\n",
    "            self.network[returnVertex.name].append(returnEdge)\n",
    "\n",
    "    def get_path(self, start, end, path):\n",
    "        \"\"\"\n",
    "        Recursive function that walks through the network starting at a certain\n",
    "        vertex and calculates residual capacity for each edge it passes then\n",
    "        uses this residual capacity to define how much flow to send along a\n",
    "        given path. Then repeats this process until it reaches the end of the\n",
    "        flow network.\n",
    "        Args:\n",
    "            start (vertex): start vertex of the new edge\n",
    "            end (vertex): end vertex of the new edge\n",
    "            path (list): list of vertices in a path\n",
    "        Returns:\n",
    "            path (list): list of vertices in a path\n",
    "        \"\"\"\n",
    "\n",
    "        if start == end:\n",
    "            return path\n",
    "\n",
    "        for edge in self.network[start]:\n",
    "            residualCapacity = edge.capacity - edge.flow\n",
    "            if residualCapacity > 0 and not (edge, residualCapacity) in path:\n",
    "                result = self.get_path(edge.end, end, path + [(edge, residualCapacity)])\n",
    "                if result != None:\n",
    "                    return result\n",
    "\n",
    "    def MaxFlow(self):\n",
    "        \"\"\"\n",
    "        Follows the path returned by get_path and gets the maximum flow in the\n",
    "        network. This function implements the Ford Fulkerson method and\n",
    "        calculates the flow while the path is not fully walked. It sums this\n",
    "        flow to the fordward edges and substracts it from the reverse edges.\n",
    "        Then, another path is calculated and we repeat the process.\n",
    "        Returns:\n",
    "            (string): error message when an error in the definition of the\n",
    "                      network occurs.\n",
    "            (float): maximum flow through the network\n",
    "        \"\"\"\n",
    "        cdef double s=0.0\n",
    "        cdef double flow\n",
    "        \n",
    "        source = self.get_source()\n",
    "        sink = self.get_sink()\n",
    "\n",
    "        if source == None or sink == None:\n",
    "            return \"La red no tiene nodo origen y/o destino \"\n",
    "\n",
    "        path = self.get_path(source.name, sink.name, [])\n",
    "        while path != None:\n",
    "            flow = min(edge[1] for edge in path)\n",
    "            for edge, res in path:\n",
    "                edge.flow += flow\n",
    "                edge.returnEdge.flow -= flow\n",
    "            path = self.get_path(source.name, sink.name, [])\n",
    "        for edge in self.network[source.name]:\n",
    "            s += edge.flow\n",
    "        return s\n"
   ]
  },
  {
   "cell_type": "markdown",
   "id": "bfc199cd",
   "metadata": {},
   "source": [
    "### Análisis de archivo HTML"
   ]
  },
  {
   "cell_type": "code",
   "execution_count": 52,
   "id": "0c979c3c",
   "metadata": {},
   "outputs": [],
   "source": [
    "%%bash\n",
    "$HOME/.local/bin/cython --force -3 --annotate scripts/ffmax_1.pyx"
   ]
  },
  {
   "cell_type": "code",
   "execution_count": null,
   "id": "be8e3a5b",
   "metadata": {},
   "outputs": [],
   "source": [
    "display(HTML(\"scripts/ffmax_1.html\"))"
   ]
  },
  {
   "cell_type": "markdown",
   "id": "da3e0734",
   "metadata": {},
   "source": [
    "### Prueba de reimplementación"
   ]
  },
  {
   "cell_type": "code",
   "execution_count": null,
   "id": "bc7a4d63",
   "metadata": {},
   "outputs": [],
   "source": []
  },
  {
   "cell_type": "code",
   "execution_count": 54,
   "id": "bc5ff34e",
   "metadata": {},
   "outputs": [
    {
     "name": "stdout",
     "output_type": "stream",
     "text": [
      "Overwriting scripts/setup_1.py\n"
     ]
    }
   ],
   "source": [
    "%%file scripts/setup_1.py\n",
    "from distutils.core import setup\n",
    "from Cython.Build import cythonize\n",
    "\n",
    "setup(ext_modules = cythonize(\"scripts/ffmax_1.pyx\", \n",
    "                              compiler_directives={'language_level' : 3}))"
   ]
  },
  {
   "cell_type": "markdown",
   "id": "dc9d39ff",
   "metadata": {},
   "source": [
    "### Compilación desde línea de comandos"
   ]
  },
  {
   "cell_type": "code",
   "execution_count": 55,
   "id": "cc2ec946",
   "metadata": {},
   "outputs": [
    {
     "name": "stdout",
     "output_type": "stream",
     "text": [
      "running build_ext\n",
      "building 'ffmax_1' extension\n",
      "x86_64-linux-gnu-gcc -pthread -Wno-unused-result -Wsign-compare -DNDEBUG -g -fwrapv -O2 -Wall -g -fstack-protector-strong -Wformat -Werror=format-security -g -fwrapv -O2 -g -fstack-protector-strong -Wformat -Werror=format-security -Wdate-time -D_FORTIFY_SOURCE=2 -fPIC -I/usr/include/python3.8 -c scripts/ffmax_1.c -o build/temp.linux-x86_64-3.8/scripts/ffmax_1.o\n",
      "x86_64-linux-gnu-gcc -pthread -shared -Wl,-O1 -Wl,-Bsymbolic-functions -Wl,-Bsymbolic-functions -Wl,-z,relro -g -fwrapv -O2 -Wl,-Bsymbolic-functions -Wl,-z,relro -g -fwrapv -O2 -g -fstack-protector-strong -Wformat -Werror=format-security -Wdate-time -D_FORTIFY_SOURCE=2 build/temp.linux-x86_64-3.8/scripts/ffmax_1.o -o /home/ubuntu/practica-2-segunda-parte-diramtz/ffmax_1.cpython-38-x86_64-linux-gnu.so\n"
     ]
    }
   ],
   "source": [
    "%%bash\n",
    "python3 scripts/setup_1.py build_ext --inplace"
   ]
  },
  {
   "cell_type": "code",
   "execution_count": 56,
   "id": "bff5c2be",
   "metadata": {},
   "outputs": [],
   "source": [
    "import ffmax_1 as ff\n",
    "import time\n",
    "import networkx as nx\n",
    "from pytest import approx\n",
    "from IPython.display import HTML, display"
   ]
  },
  {
   "cell_type": "code",
   "execution_count": 57,
   "id": "263a7f4a",
   "metadata": {},
   "outputs": [],
   "source": [
    "start_time = time.time()\n",
    "\n",
    "red = ff.create_flow_network()\n",
    "\n",
    "red.create_vertex('o', True, False) \n",
    "red.create_vertex('t', False, True) \n",
    "red.create_vertex('a', False, False)\n",
    "red.create_vertex('b', False, False)\n",
    "red.create_vertex('c', False, False)\n",
    "red.create_vertex('d', False, False)\n",
    "red.create_vertex('e', False, False)\n",
    "\n",
    "red.create_edge('o', 'a', 5)\n",
    "red.create_edge('o', 'b', 7)\n",
    "red.create_edge('o', 'c', 4)\n",
    "\n",
    "red.create_edge('a', 'b', 1)\n",
    "red.create_edge('a', 'd', 3)\n",
    "\n",
    "red.create_edge('b', 'c', 2)\n",
    "red.create_edge('b', 'd', 4)\n",
    "red.create_edge('b', 'e', 5)\n",
    "\n",
    "red.create_edge('c', 'e', 4)\n",
    "\n",
    "red.create_edge('d', 't', 9)\n",
    "\n",
    "red.create_edge('e', 'd', 1)\n",
    "red.create_edge('e', 't', 9)\n",
    "\n",
    "red.MaxFlow()\n",
    "\n",
    "end_time = time.time()"
   ]
  },
  {
   "cell_type": "code",
   "execution_count": 58,
   "id": "73ce2ccc",
   "metadata": {},
   "outputs": [
    {
     "name": "stdout",
     "output_type": "stream",
     "text": [
      "El ejemplo base tomó 0.0009105205535888672 segundos\n"
     ]
    }
   ],
   "source": [
    "secs_1 = end_time-start_time\n",
    "print(\"El ejemplo base tomó\",secs_1,\"segundos\" )"
   ]
  },
  {
   "cell_type": "markdown",
   "id": "4b0bd0f9",
   "metadata": {},
   "source": [
    "Y verificamos que continuamos resolviendo el problema de manera correcta."
   ]
  },
  {
   "cell_type": "code",
   "execution_count": 59,
   "id": "c41dcf96",
   "metadata": {},
   "outputs": [],
   "source": [
    "G = nx.DiGraph()\n",
    "\n",
    "G.add_edge('o', 'a', capacity=5)\n",
    "G.add_edge('o', 'b', capacity=7)\n",
    "G.add_edge('o', 'c', capacity=4)\n",
    "\n",
    "G.add_edge('a', 'b', capacity=1)\n",
    "G.add_edge('a', 'd', capacity=3)\n",
    "\n",
    "G.add_edge('b', 'c', capacity=2)\n",
    "G.add_edge('b', 'd', capacity=4)\n",
    "G.add_edge('b', 'e', capacity=5)\n",
    "\n",
    "G.add_edge('c', 'e', capacity=4)\n",
    "\n",
    "G.add_edge('d', 't', capacity=9)\n",
    "\n",
    "G.add_edge('e', 'd', capacity=1)\n",
    "G.add_edge('e', 't', capacity=9)\n",
    "\n",
    "flow_value, flow_dict = nx.maximum_flow(G, 'o', 't')"
   ]
  },
  {
   "cell_type": "code",
   "execution_count": 60,
   "id": "554e6969",
   "metadata": {},
   "outputs": [
    {
     "data": {
      "text/plain": [
       "15"
      ]
     },
     "execution_count": 60,
     "metadata": {},
     "output_type": "execute_result"
    }
   ],
   "source": [
    "flow_value"
   ]
  },
  {
   "cell_type": "code",
   "execution_count": 61,
   "id": "53bdf183",
   "metadata": {},
   "outputs": [
    {
     "data": {
      "text/plain": [
       "15.0"
      ]
     },
     "execution_count": 61,
     "metadata": {},
     "output_type": "execute_result"
    }
   ],
   "source": [
    "red.MaxFlow()"
   ]
  },
  {
   "cell_type": "code",
   "execution_count": 62,
   "id": "9a6601dd",
   "metadata": {},
   "outputs": [
    {
     "name": "stdout",
     "output_type": "stream",
     "text": [
      "True\n"
     ]
    }
   ],
   "source": [
    "obj = flow_value\n",
    "res = red.MaxFlow()\n",
    "print(res == approx(obj))"
   ]
  },
  {
   "cell_type": "code",
   "execution_count": 63,
   "id": "bb17e4b1",
   "metadata": {},
   "outputs": [
    {
     "name": "stdout",
     "output_type": "stream",
     "text": [
      "En esta iteración redujimos el tiempo en: 6.67572021484375e-06 segundos\n"
     ]
    }
   ],
   "source": [
    "print(\"En esta iteración redujimos el tiempo en: {} segundos\".format(secs_0 - secs_1))"
   ]
  },
  {
   "cell_type": "markdown",
   "id": "d19ae0e9",
   "metadata": {},
   "source": [
    "## Cython: Iteración 2"
   ]
  },
  {
   "cell_type": "markdown",
   "id": "017cd46a",
   "metadata": {},
   "source": [
    "### Creación del archivo .pyx\n",
    "Continuamos optimizando algunas líneas del código."
   ]
  },
  {
   "cell_type": "code",
   "execution_count": 424,
   "id": "4f0f6008",
   "metadata": {},
   "outputs": [
    {
     "name": "stdout",
     "output_type": "stream",
     "text": [
      "Overwriting scripts/ffmax_2.pyx\n"
     ]
    }
   ],
   "source": [
    "%%file scripts/ffmax_2.pyx\n",
    "#from libc.stdio cimport printf\n",
    "from cpython cimport bool\n",
    "\n",
    "cdef class vertex:\n",
    "    \"\"\"\n",
    "    A vertex in a network.\n",
    "    Attributes:\n",
    "        name (string): name or identifier of vertex\n",
    "        source (bool): whether the vertex is a source vertex or not\n",
    "        sink (bool): whether the vertex is a sink vertex or not\n",
    "    \"\"\"\n",
    "\n",
    "    def __init__(self, name, bool source=False, bool sink=False):\n",
    "        self.name = name\n",
    "        self.source = source\n",
    "        self.sink = sink\n",
    "\n",
    "cdef class edge:\n",
    "    \"\"\"\n",
    "    An edge in a netwokt, going from one vertex to another\n",
    "    Attributes:\n",
    "        start (vertex): the edge comes out of this vertex\n",
    "        end (vertex): the edge arrives at this vertex\n",
    "        capacity (float): edge's maximum flow capacity\n",
    "        flow (float): current flow in the edge\n",
    "        returnEdge (pointer): return edge which is used in the residual graph\n",
    "    \"\"\"\n",
    "\n",
    "    def __init__(self, start, end, capacity):\n",
    "        self.start = start\n",
    "        self.end = end\n",
    "        self.capacity = capacity\n",
    "        self.flow = 0\n",
    "        self.returnEdge = None\n",
    "\n",
    "cdef class create_flow_network:\n",
    "    \"\"\"\n",
    "    A flow network to which we want to find the maximum flow posible going\n",
    "    from one vertex to another.\n",
    "    Attributes:\n",
    "       vertices (list): lists all of vertices in the graph\n",
    "       network (dictionary): maps every vertex's name to all of the edges\n",
    "                             coming out of the said vertex\n",
    "    \"\"\"\n",
    "    \n",
    "    def __init__(self):\n",
    "        self.vertices = []\n",
    "        self.network = {}\n",
    "\n",
    "    def get_source(self):\n",
    "        \"\"\"\n",
    "        Finds the source vertex in the list of vertices in the network.\n",
    "        \"\"\"\n",
    "        for vertex in self.vertices:\n",
    "            if (vertex.source):\n",
    "                return vertex\n",
    "\n",
    "        return None\n",
    "\n",
    "    def get_sink(self):\n",
    "        \"\"\"\n",
    "        Finds the sink vertex in the list of vertices in the flow network.\n",
    "        \"\"\"\n",
    "        for vertex in self.vertices:\n",
    "            if (vertex.sink):\n",
    "                return vertex\n",
    "\n",
    "        return None\n",
    "\n",
    "    def get_vertex(self, name):\n",
    "        \"\"\"\n",
    "        Takes a vertex name finds it in the lists of vertices of the\n",
    "        object of class create_flow_network.\n",
    "        Args:\n",
    "            name (string): name or identifier of vertex\n",
    "        Returns:\n",
    "            vertex (vertex): object of class vertex corresponding to the\n",
    "                             input vertex name.\n",
    "        \"\"\"\n",
    "        for vertex in self.vertices:\n",
    "            if name == vertex.name:\n",
    "                return vertex\n",
    "\n",
    "    cdef bool vertex_in_network(self, name):\n",
    "        \"\"\"\n",
    "        Verifies if a certain vertex is in the list of vertices of the flow\n",
    "        network.\n",
    "        Args:\n",
    "            name (string): name or identifier of vertex.\n",
    "        Returns:\n",
    "            (bool): if the vertex is in the network or not.\n",
    "        \"\"\"\n",
    "        \n",
    "        for vertex in self.vertices:\n",
    "            if vertex.name == name:\n",
    "                return True\n",
    "\n",
    "        return False\n",
    "\n",
    "    def get_edges(self):\n",
    "        \"\"\"\n",
    "        Takes information from the network vertices and gets a list of all\n",
    "        the edges going in and out of this vertices.\n",
    "        Returns:\n",
    "            allEdges (list): list of all vertices in the flow network.\n",
    "        \"\"\"\n",
    "        allEdges = []\n",
    "        for vertex in self.network:\n",
    "            for edge in self.network[vertex]:\n",
    "                allEdges.append(edge)\n",
    "\n",
    "        return allEdges\n",
    "\n",
    "    def create_vertex(self, name, source=False, sink=False):\n",
    "        \"\"\"\n",
    "        Creates and adds a vertex to the network after it checks various\n",
    "        error cases to ensure that the vertex can be added.\n",
    "        Args:\n",
    "            name (string): name or identifier of vertex_in_network\n",
    "            source (bool): whether the vertex to add is source or not\n",
    "            sink (bool): whether the vertex to add is sink or not\n",
    "        Returns:\n",
    "            (string): error message when error arises\n",
    "        \"\"\"\n",
    "        if source:\n",
    "            if sink:\n",
    "                return \"El nodo {} no puede ser origen y destino\".format(name)\n",
    "\n",
    "        if self.vertex_in_network(name):\n",
    "            return \"Nodo duplicado\"\n",
    "\n",
    "        if source:\n",
    "            if self.get_source() != None:\n",
    "                return \"Ya existe nodo origen\"\n",
    "\n",
    "        if sink:\n",
    "            if self.get_sink() != None:\n",
    "                return \"Ya existe nodo destino\"\n",
    "\n",
    "        newVertex = vertex(name, source, sink)\n",
    "        self.vertices.append(newVertex)\n",
    "        self.network[newVertex.name] = []\n",
    "\n",
    "    cdef void create_edge(self, start, end, double capacity):\n",
    "        \"\"\"\n",
    "        Creates and adds a new edge to the flow network with capacity of 0\n",
    "        by first checking the start and end vertices of said edge to\n",
    "        verify that the are not the same vertex and that they are both in\n",
    "        the network.\n",
    "        Args:\n",
    "            start (vertex): start vertex of the new edge\n",
    "            end (vertex): end vertex of the new edge\n",
    "            capacity (float): capcity of the new edge\n",
    "        Returns:\n",
    "            (string): error message when error arises\n",
    "        \"\"\"\n",
    "        \n",
    "        if self.vertex_in_network(start) == False:\n",
    "        #if (self.vertex_in_network(start)):\n",
    "        #    pass\n",
    "        #else:\n",
    "            print(\"Nodo origen ya ha sido agregado. \\n El cálculo de flujo máximo continúa con el primer valor asignado al nodo orígen.\")\n",
    "\n",
    "        elif self.vertex_in_network(end) == False:\n",
    "        #if (self.vertex_in_network(end)):\n",
    "        #    pass\n",
    "        #else:\n",
    "            print(\"Nodo destino ya ha sido agregado. \\n El cálculo del flujo máximo continúa con el primer valor asignado al nodo destino.\")\n",
    "        \n",
    "        elif start == end:\n",
    "        #if start == end:\n",
    "            print(\"No se pueden tener bucles. \\n El cálculo de flujo máximo continuará sin tomar en cuenta este arco.\")\n",
    "          \n",
    "        else:\n",
    "            newEdge = edge(start, end, capacity)\n",
    "            returnEdge = edge(end, start, 0)\n",
    "            newEdge.returnEdge = returnEdge\n",
    "            returnEdge.returnEdge = newEdge\n",
    "            vertex = self.get_vertex(start)\n",
    "            self.network[vertex.name].append(newEdge)\n",
    "            returnVertex = self.get_vertex(end)\n",
    "            self.network[returnVertex.name].append(returnEdge)\n",
    "\n",
    "    cdef get_path(self, start, end, path):\n",
    "        \"\"\"\n",
    "        Recursive function that walks through the network starting at a certain\n",
    "        vertex and calculates residual capacity for each edge it passes then\n",
    "        uses this residual capacity to define how much flow to send along a\n",
    "        given path. Then repeats this process until it reaches the end of the\n",
    "        flow network.\n",
    "        Args:\n",
    "            start (vertex): start vertex of the new edge\n",
    "            end (vertex): end vertex of the new edge\n",
    "            path (list): list of vertices in a path\n",
    "        Returns:\n",
    "            path (list): list of vertices in a path\n",
    "        \"\"\"\n",
    "        cdef float residualCapacity = 0.0\n",
    "        \n",
    "        if start == end:\n",
    "            return path\n",
    "\n",
    "        for edge in self.network[start]:\n",
    "            residualCapacity = edge.capacity - edge.flow\n",
    "            if residualCapacity > 0:\n",
    "                if not (edge, residualCapacity) in path:\n",
    "                    result = self.get_path(edge.end, end, path + [(edge, residualCapacity)])\n",
    "                    if result != None:\n",
    "                        return result\n",
    "\n",
    "    def MaxFlow(self):\n",
    "        \"\"\"\n",
    "        Follows the path returned by get_path and gets the maximum flow in the\n",
    "        network. This function implements the Ford Fulkerson method and\n",
    "        calculates the flow while the path is not fully walked. It sums this\n",
    "        flow to the fordward edges and substracts it from the reverse edges.\n",
    "        Then, another path is calculated and we repeat the process.\n",
    "        Returns:\n",
    "            (string): error message when an error in the definition of the\n",
    "                      network occurs.\n",
    "            (float): maximum flow through the network\n",
    "        \"\"\"\n",
    "        cdef double s=0.0\n",
    "        cdef double flow=0.0\n",
    "        \n",
    "        source = self.get_source()\n",
    "        sink = self.get_sink()\n",
    "\n",
    "        if (source == None | sink == None):\n",
    "            return \"La red no tiene nodo origen y/o destino \"\n",
    "\n",
    "        path = self.get_path(source.name, sink.name, [])\n",
    "        while path != None:\n",
    "            flow = min(edge[1] for edge in path)\n",
    "            for edge in path:\n",
    "                edge.flow += flow\n",
    "                edge.returnEdge.flow -= flow\n",
    "            path = self.get_path(source.name, sink.name, [])\n",
    "        names = self.network[source.name]\n",
    "        for edge in names:\n",
    "            s += edge.flow\n",
    "        return s\n"
   ]
  },
  {
   "cell_type": "markdown",
   "id": "623efb64",
   "metadata": {},
   "source": [
    "### Análisis de archivo HTML"
   ]
  },
  {
   "cell_type": "code",
   "execution_count": 425,
   "id": "251c4acf",
   "metadata": {},
   "outputs": [],
   "source": [
    "%%bash\n",
    "$HOME/.local/bin/cython --force -3 --annotate scripts/ffmax_2.pyx"
   ]
  },
  {
   "cell_type": "code",
   "execution_count": null,
   "id": "f0c6c772",
   "metadata": {},
   "outputs": [],
   "source": [
    "display(HTML(\"scripts/ffmax_2.html\"))"
   ]
  },
  {
   "cell_type": "markdown",
   "id": "4ea85554",
   "metadata": {},
   "source": [
    "### Prueba de la reimplementación"
   ]
  },
  {
   "cell_type": "code",
   "execution_count": 427,
   "id": "3d32386e",
   "metadata": {},
   "outputs": [
    {
     "name": "stdout",
     "output_type": "stream",
     "text": [
      "Overwriting scripts/setup_2.py\n"
     ]
    }
   ],
   "source": [
    "%%file scripts/setup_2.py\n",
    "from distutils.core import setup\n",
    "from Cython.Build import cythonize\n",
    "\n",
    "setup(ext_modules = cythonize(\"scripts/ffmax_2.pyx\", \n",
    "                              compiler_directives={'language_level' : 3}))"
   ]
  },
  {
   "cell_type": "markdown",
   "id": "7cf17adb",
   "metadata": {},
   "source": [
    "### Compilación desde línea de comandos"
   ]
  },
  {
   "cell_type": "code",
   "execution_count": 428,
   "id": "f1c6922c",
   "metadata": {},
   "outputs": [
    {
     "name": "stdout",
     "output_type": "stream",
     "text": [
      "running build_ext\n",
      "building 'ffmax_2' extension\n",
      "x86_64-linux-gnu-gcc -pthread -Wno-unused-result -Wsign-compare -DNDEBUG -g -fwrapv -O2 -Wall -g -fstack-protector-strong -Wformat -Werror=format-security -g -fwrapv -O2 -g -fstack-protector-strong -Wformat -Werror=format-security -Wdate-time -D_FORTIFY_SOURCE=2 -fPIC -I/usr/include/python3.8 -c scripts/ffmax_2.c -o build/temp.linux-x86_64-3.8/scripts/ffmax_2.o\n",
      "x86_64-linux-gnu-gcc -pthread -shared -Wl,-O1 -Wl,-Bsymbolic-functions -Wl,-Bsymbolic-functions -Wl,-z,relro -g -fwrapv -O2 -Wl,-Bsymbolic-functions -Wl,-z,relro -g -fwrapv -O2 -g -fstack-protector-strong -Wformat -Werror=format-security -Wdate-time -D_FORTIFY_SOURCE=2 build/temp.linux-x86_64-3.8/scripts/ffmax_2.o -o /home/ubuntu/practica-2-segunda-parte-diramtz/ffmax_2.cpython-38-x86_64-linux-gnu.so\n"
     ]
    }
   ],
   "source": [
    "%%bash\n",
    "python3 scripts/setup_2.py build_ext --inplace"
   ]
  },
  {
   "cell_type": "code",
   "execution_count": 429,
   "id": "7aab9de6",
   "metadata": {},
   "outputs": [],
   "source": [
    "import ffmax_2 as ff\n",
    "import time\n",
    "import networkx as nx\n",
    "from pytest import approx\n",
    "from IPython.display import HTML, display"
   ]
  },
  {
   "cell_type": "code",
   "execution_count": 439,
   "id": "1935903c",
   "metadata": {},
   "outputs": [],
   "source": [
    "start_time = time.time()\n",
    "\n",
    "red = ff.create_flow_network()\n",
    "\n",
    "red.create_vertex('o', True, False) \n",
    "red.create_vertex('t', False, True) \n",
    "red.create_vertex('a', False, False)\n",
    "red.create_vertex('b', False, False)\n",
    "red.create_vertex('c', False, False)\n",
    "red.create_vertex('d', False, False)\n",
    "red.create_vertex('e', False, False)\n",
    "\n",
    "red.create_edge('o', 'a', 5)\n",
    "red.create_edge('o', 'b', 7)\n",
    "red.create_edge('o', 'c', 4)\n",
    "\n",
    "red.create_edge('a', 'b', 1)\n",
    "red.create_edge('a', 'd', 3)\n",
    "\n",
    "red.create_edge('b', 'c', 2)\n",
    "red.create_edge('b', 'd', 4)\n",
    "red.create_edge('b', 'e', 5)\n",
    "\n",
    "red.create_edge('c', 'e', 4)\n",
    "\n",
    "red.create_edge('d', 't', 9)\n",
    "\n",
    "red.create_edge('e', 'd', 1)\n",
    "red.create_edge('e', 't', 9)\n",
    "\n",
    "red.MaxFlow()\n",
    "\n",
    "end_time = time.time()"
   ]
  },
  {
   "cell_type": "code",
   "execution_count": 440,
   "id": "92adc399",
   "metadata": {},
   "outputs": [
    {
     "name": "stdout",
     "output_type": "stream",
     "text": [
      "El ejemplo base tomó 0.0008833408355712891 segundos\n"
     ]
    }
   ],
   "source": [
    "secs_2 = end_time-start_time\n",
    "print(\"El ejemplo base tomó\",secs_2,\"segundos\" )"
   ]
  },
  {
   "cell_type": "markdown",
   "id": "becca34c",
   "metadata": {},
   "source": [
    "Y verificamos que continuamos resolviendo el problema de manera correcta."
   ]
  },
  {
   "cell_type": "code",
   "execution_count": 441,
   "id": "a6ff3dcb",
   "metadata": {},
   "outputs": [
    {
     "name": "stdout",
     "output_type": "stream",
     "text": [
      "True\n"
     ]
    }
   ],
   "source": [
    "obj = flow_value\n",
    "res = red.MaxFlow()\n",
    "print(res == approx(obj))"
   ]
  },
  {
   "cell_type": "code",
   "execution_count": 442,
   "id": "db921e53",
   "metadata": {},
   "outputs": [
    {
     "name": "stdout",
     "output_type": "stream",
     "text": [
      "Redujimos el tiempo en: 3.3855438232421875e-05 segundos con respecto al original\n",
      "Redujimos el tiempo en: 2.7179718017578125e-05 segundos con respecto a la primera reimplementación\n"
     ]
    }
   ],
   "source": [
    "print(\"Redujimos el tiempo en: {} segundos con respecto al original\".format(secs_0 - secs_2))\n",
    "print(\"Redujimos el tiempo en: {} segundos con respecto a la primera reimplementación\".format(secs_1 - secs_2))"
   ]
  },
  {
   "cell_type": "code",
   "execution_count": null,
   "id": "1d3852e4",
   "metadata": {},
   "outputs": [],
   "source": []
  }
 ],
 "metadata": {
  "kernelspec": {
   "display_name": "Python 3",
   "language": "python",
   "name": "python3"
  },
  "language_info": {
   "codemirror_mode": {
    "name": "ipython",
    "version": 3
   },
   "file_extension": ".py",
   "mimetype": "text/x-python",
   "name": "python",
   "nbconvert_exporter": "python",
   "pygments_lexer": "ipython3",
   "version": "3.8.5"
  },
  "toc-autonumbering": false,
  "toc-showmarkdowntxt": false
 },
 "nbformat": 4,
 "nbformat_minor": 5
}
