{
 "cells": [
  {
   "cell_type": "markdown",
   "id": "0e215cdb",
   "metadata": {},
   "source": [
    "# Reimplementación con Cython"
   ]
  },
  {
   "cell_type": "markdown",
   "id": "43f79234",
   "metadata": {},
   "source": [
    "## Características de la instancia"
   ]
  },
  {
   "cell_type": "markdown",
   "id": "74513681",
   "metadata": {},
   "source": [
    "Se utilizó una máquina **t2.2xlarge** en lugar de una m4.16xlarge porque la cuenta de educate de aws que utilizamos no tenía permiso para levantar instancias de tipo m4. Sin embargo, buscamos y encontramos que las t2 y las m4 eran muy similares entre ellas por lo que nos decidimos por utlilzar la más grande de las tipo t2. La máquina t2.2xlarge tiene las siguientes características:"
   ]
  },
  {
   "cell_type": "code",
   "execution_count": 1,
   "id": "34d35663",
   "metadata": {},
   "outputs": [
    {
     "name": "stdout",
     "output_type": "stream",
     "text": [
      "Architecture:                    x86_64\n",
      "CPU op-mode(s):                  32-bit, 64-bit\n",
      "Byte Order:                      Little Endian\n",
      "Address sizes:                   46 bits physical, 48 bits virtual\n",
      "CPU(s):                          8\n",
      "On-line CPU(s) list:             0-7\n",
      "Thread(s) per core:              1\n",
      "Core(s) per socket:              8\n",
      "Socket(s):                       1\n",
      "NUMA node(s):                    1\n",
      "Vendor ID:                       GenuineIntel\n",
      "CPU family:                      6\n",
      "Model:                           79\n",
      "Model name:                      Intel(R) Xeon(R) CPU E5-2686 v4 @ 2.30GHz\n",
      "Stepping:                        1\n",
      "CPU MHz:                         2300.193\n",
      "BogoMIPS:                        4600.11\n",
      "Hypervisor vendor:               Xen\n",
      "Virtualization type:             full\n",
      "L1d cache:                       256 KiB\n",
      "L1i cache:                       256 KiB\n",
      "L2 cache:                        2 MiB\n",
      "L3 cache:                        45 MiB\n",
      "NUMA node0 CPU(s):               0-7\n",
      "Vulnerability Itlb multihit:     KVM: Vulnerable\n",
      "Vulnerability L1tf:              Mitigation; PTE Inversion\n",
      "Vulnerability Mds:               Vulnerable: Clear CPU buffers attempted, no microcode; SMT Host state unknown\n",
      "Vulnerability Meltdown:          Mitigation; PTI\n",
      "Vulnerability Spec store bypass: Vulnerable\n",
      "Vulnerability Spectre v1:        Mitigation; usercopy/swapgs barriers and __user pointer sanitization\n",
      "Vulnerability Spectre v2:        Mitigation; Full generic retpoline, STIBP disabled, RSB filling\n",
      "Vulnerability Srbds:             Not affected\n",
      "Vulnerability Tsx async abort:   Not affected\n",
      "Flags:                           fpu vme de pse tsc msr pae mce cx8 apic sep mtrr pge mca cmov pat pse36 clflush mmx fxsr sse sse2 ht syscall nx pdpe1gb rdtscp lm constant_tsc rep_good nopl xtopology cpuid pni pclmulqdq ssse3 fma cx16 pcid sse4_1 sse4_2 x2apic movbe popcnt tsc_deadline_timer aes xsave avx f16c rdrand hypervisor lahf_lm abm cpuid_fault invpcid_single pti fsgsbase bmi1 avx2 smep bmi2 erms invpcid xsaveopt\n"
     ]
    }
   ],
   "source": [
    "%%bash\n",
    "lscpu"
   ]
  },
  {
   "cell_type": "code",
   "execution_count": 1,
   "id": "57b94489",
   "metadata": {},
   "outputs": [
    {
     "name": "stdout",
     "output_type": "stream",
     "text": [
      "  *-firmware\n",
      "       description: BIOS\n",
      "       vendor: Xen\n",
      "       physical id: 0\n",
      "       version: 4.2.amazon\n",
      "       date: 08/24/2006\n",
      "       size: 96KiB\n",
      "       capabilities: pci edd\n",
      "  *-memory\n",
      "       description: System Memory\n",
      "       physical id: 1000\n",
      "       size: 32GiB\n",
      "       capabilities: ecc\n",
      "       configuration: errordetection=multi-bit-ecc\n",
      "     *-bank:0\n",
      "          description: DIMM RAM\n",
      "          physical id: 0\n",
      "          slot: DIMM 0\n",
      "          size: 16GiB\n",
      "          width: 64 bits\n",
      "     *-bank:1\n",
      "          description: DIMM RAM\n",
      "          physical id: 1\n",
      "          slot: DIMM 1\n",
      "          size: 16GiB\n",
      "          width: 64 bits\n"
     ]
    }
   ],
   "source": [
    "%%bash\n",
    "sudo lshw -C memory"
   ]
  },
  {
   "cell_type": "code",
   "execution_count": 2,
   "id": "2eb5d6db",
   "metadata": {},
   "outputs": [
    {
     "name": "stdout",
     "output_type": "stream",
     "text": [
      "Linux ip-10-0-0-159 5.4.0-1038-aws #40-Ubuntu SMP Fri Feb 5 23:50:40 UTC 2021 x86_64 x86_64 x86_64 GNU/Linux\n"
     ]
    }
   ],
   "source": [
    "%%bash\n",
    "uname -ar #r for kernel, a for all"
   ]
  },
  {
   "cell_type": "markdown",
   "id": "6b8f5833",
   "metadata": {},
   "source": [
    "## Cython"
   ]
  },
  {
   "cell_type": "markdown",
   "id": "544535fc",
   "metadata": {},
   "source": [
    "Para utilizar Cython recordemos que son necesarios 3 archivos:\n",
    "\n",
    "1.El código que será compilado en un archivo con extensión .pyx (escrito en Python)\n",
    "    \n",
    "2.Un archivo setup.py que contiene las instrucciones para llamar a Cython y se encarga de crear el módulo compilado.\n",
    "  \n",
    "3.El código escrito en Python que importará el módulo compilado."
   ]
  },
  {
   "cell_type": "markdown",
   "id": "b8925608",
   "metadata": {},
   "source": [
    "### Creación del archivo con extensión .pyx\n",
    "Copiamos y pegamos el código robustecido de la parte 1 de esta práctica 2."
   ]
  },
  {
   "cell_type": "code",
   "execution_count": 17,
   "id": "a1596ec8",
   "metadata": {},
   "outputs": [
    {
     "name": "stdout",
     "output_type": "stream",
     "text": [
      "Overwriting scripts/ffmax_0.pyx\n"
     ]
    }
   ],
   "source": [
    "%%file scripts/ffmax_0.pyx\n",
    "class vertex:\n",
    "    \"\"\"\n",
    "    A vertex in a network.\n",
    "    Attributes:\n",
    "        name (string): name or identifier of vertex\n",
    "        source (bool): whether the vertex is a source vertex or not\n",
    "        sink (bool): whether the vertex is a sink vertex or not\n",
    "    \"\"\"\n",
    "\n",
    "    def __init__(self, name, source=False, sink=False):\n",
    "        self.name = name\n",
    "        self.source = source\n",
    "        self.sink = sink\n",
    "\n",
    "class edge:\n",
    "    \"\"\"\n",
    "    An edge in a netwokt, going from one vertex to another\n",
    "    Attributes:\n",
    "        start (vertex): the edge comes out of this vertex\n",
    "        end (vertex): the edge arrives at this vertex\n",
    "        capacity (float): edge's maximum flow capacity\n",
    "        flow (float): current flow in the edge\n",
    "        returnEdge (pointer): return edge which is used in the residual graph\n",
    "    \"\"\"\n",
    "\n",
    "    def __init__(self, start, end, capacity):\n",
    "        self.start = start\n",
    "        self.end = end\n",
    "        self.capacity = capacity\n",
    "        self.flow = 0\n",
    "        self.returnEdge = None\n",
    "\n",
    "class create_flow_network:\n",
    "    \"\"\"\n",
    "    A flow network to which we want to find the maximum flow posible going\n",
    "    from one vertex to another.\n",
    "    Attributes:\n",
    "       vertices (list): lists all of vertices in the graph\n",
    "       network (dictionary): maps every vertex's name to all of the edges\n",
    "                             coming out of the said vertex\n",
    "    \"\"\"\n",
    "    def __init__(self):\n",
    "        self.vertices = []\n",
    "        self.network = {}\n",
    "\n",
    "    def get_source(self):\n",
    "        \"\"\"\n",
    "        Finds the source vertex in the list of vertices in the network.\n",
    "        \"\"\"\n",
    "        for vertex in self.vertices:\n",
    "            if vertex.source == True:\n",
    "                return vertex\n",
    "\n",
    "        return None\n",
    "\n",
    "    def get_sink(self):\n",
    "        \"\"\"\n",
    "        Finds the sink vertex in the list of vertices in the flow network.\n",
    "        \"\"\"\n",
    "        for vertex in self.vertices:\n",
    "            if vertex.sink == True:\n",
    "                return vertex\n",
    "\n",
    "        return None\n",
    "\n",
    "    def get_vertex(self, name):\n",
    "        \"\"\"\n",
    "        Takes a vertex name finds it in the lists of vertices of the\n",
    "        object of class create_flow_network.\n",
    "        Args:\n",
    "            name (string): name or identifier of vertex\n",
    "        Returns:\n",
    "            vertex (vertex): object of class vertex corresponding to the\n",
    "                             input vertex name.\n",
    "        \"\"\"\n",
    "        for vertex in self.vertices:\n",
    "            if name == vertex.name:\n",
    "                return vertex\n",
    "\n",
    "    def vertex_in_network(self, name):\n",
    "        \"\"\"\n",
    "        Verifies if a certain vertex is in the list of vertices of the flow\n",
    "        network.\n",
    "        Args:\n",
    "            name (string): name or identifier of vertex.\n",
    "        Returns:\n",
    "            (bool): if the vertex is in the network or not.\n",
    "        \"\"\"\n",
    "        for vertex in self.vertices:\n",
    "            if vertex.name == name:\n",
    "                return True\n",
    "\n",
    "        return False\n",
    "\n",
    "    def get_edges(self):\n",
    "        \"\"\"\n",
    "        Takes information from the network vertices and gets a list of all\n",
    "        the edges going in and out of this vertices.\n",
    "        Returns:\n",
    "            allEdges (list): list of all vertices in the flow network.\n",
    "        \"\"\"\n",
    "        allEdges = []\n",
    "        for vertex in self.network:\n",
    "            for edge in self.network[vertex]:\n",
    "                allEdges.append(edge)\n",
    "\n",
    "        return allEdges\n",
    "\n",
    "    def create_vertex(self, name, source=False, sink=False):\n",
    "        \"\"\"\n",
    "        Creates and adds a vertex to the network after it checks various\n",
    "        error cases to ensure that the vertex can be added.\n",
    "        Args:\n",
    "            name (string): name or identifier of vertex_in_network\n",
    "            source (bool): whether the vertex to add is source or not\n",
    "            sink (bool): whether the vertex to add is sink or not\n",
    "        Returns:\n",
    "            (string): error message when error arises\n",
    "        \"\"\"\n",
    "        if source == True and sink == True:\n",
    "            return \"El nodo {} no puede ser origen y destino\".format(name)\n",
    "\n",
    "        if self.vertex_in_network(name):\n",
    "            return \"Nodo duplicado\"\n",
    "\n",
    "        if source == True:\n",
    "            if self.get_source() != None:\n",
    "                return \"Ya existe nodo origen\"\n",
    "\n",
    "        if sink == True:\n",
    "            if self.get_sink() != None:\n",
    "                return \"Ya existe nodo destino\"\n",
    "\n",
    "        newVertex = vertex(name, source, sink)\n",
    "        self.vertices.append(newVertex)\n",
    "        self.network[newVertex.name] = []\n",
    "\n",
    "    def create_edge(self, start, end, capacity):\n",
    "        \"\"\"\n",
    "        Creates and adds a new edge to the flow network with capacity of 0\n",
    "        by first checking the start and end vertices of said edge to\n",
    "        verify that the are not the same vertex and that they are both in\n",
    "        the network.\n",
    "        Args:\n",
    "            start (vertex): start vertex of the new edge\n",
    "            end (vertex): end vertex of the new edge\n",
    "            capacity (float): capcity of the new edge\n",
    "        Returns:\n",
    "            (string): error message when error arises\n",
    "        \"\"\"\n",
    "\n",
    "        if self.vertex_in_network(start) == False:\n",
    "            print(\"Nodo origen ya ha sido agregado. \\n El cálculo de flujo máximo continúa con el primer valor asignado al nodo orígen.\")\n",
    "\n",
    "        elif self.vertex_in_network(end) == False:\n",
    "            print(\"Nodo destino ya ha sido agregado. \\n El cálculo del flujo máximo continúa con el primer valor asignado al nodo destino.\")\n",
    "        \n",
    "        elif start == end:\n",
    "            print(\"No se pueden tener bucles. \\n El cálculo de flujo máximo continuará sin tomar en cuenta este arco.\")\n",
    "          \n",
    "        else:\n",
    "            newEdge = edge(start, end, capacity)\n",
    "            returnEdge = edge(end, start, 0)\n",
    "            newEdge.returnEdge = returnEdge\n",
    "            returnEdge.returnEdge = newEdge\n",
    "            vertex = self.get_vertex(start)\n",
    "            self.network[vertex.name].append(newEdge)\n",
    "            returnVertex = self.get_vertex(end)\n",
    "            self.network[returnVertex.name].append(returnEdge)\n",
    "\n",
    "    def get_path(self, start, end, path):\n",
    "        \"\"\"\n",
    "        Recursive function that walks through the network starting at a certain\n",
    "        vertex and calculates residual capacity for each edge it passes then\n",
    "        uses this residual capacity to define how much flow to send along a\n",
    "        given path. Then repeats this process until it reaches the end of the\n",
    "        flow network.\n",
    "        Args:\n",
    "            start (vertex): start vertex of the new edge\n",
    "            end (vertex): end vertex of the new edge\n",
    "            path (list): list of vertices in a path\n",
    "        Returns:\n",
    "            path (list): list of vertices in a path\n",
    "        \"\"\"\n",
    "\n",
    "        if start == end:\n",
    "            return path\n",
    "\n",
    "        for edge in self.network[start]:\n",
    "            residualCapacity = edge.capacity - edge.flow\n",
    "            if residualCapacity > 0 and not (edge, residualCapacity) in path:\n",
    "                result = self.get_path(edge.end, end, path + [(edge, residualCapacity)])\n",
    "                if result != None:\n",
    "                    return result\n",
    "\n",
    "    def MaxFlow(self):\n",
    "        \"\"\"\n",
    "        Follows the path returned by get_path and gets the maximum flow in the\n",
    "        network. This function implements the Ford Fulkerson method and\n",
    "        calculates the flow while the path is not fully walked. It sums this\n",
    "        flow to the fordward edges and substracts it from the reverse edges.\n",
    "        Then, another path is calculated and we repeat the process.\n",
    "        Returns:\n",
    "            (string): error message when an error in the definition of the\n",
    "                      network occurs.\n",
    "            (float): maximum flow through the network\n",
    "        \"\"\"\n",
    "        source = self.get_source()\n",
    "        sink = self.get_sink()\n",
    "\n",
    "        if source == None or sink == None:\n",
    "            return \"La red no tiene nodo origen y/o destino \"\n",
    "\n",
    "        path = self.get_path(source.name, sink.name, [])\n",
    "        while path != None:\n",
    "            flow = min(edge[1] for edge in path)\n",
    "            for edge, res in path:\n",
    "                edge.flow += flow\n",
    "                edge.returnEdge.flow -= flow\n",
    "            path = self.get_path(source.name, sink.name, [])\n",
    "        return sum(edge.flow for edge in self.network[source.name])\n"
   ]
  },
  {
   "cell_type": "markdown",
   "id": "a40abc73",
   "metadata": {},
   "source": [
    "### Creación del archivo setup.py"
   ]
  },
  {
   "cell_type": "code",
   "execution_count": 18,
   "id": "21ad952d",
   "metadata": {},
   "outputs": [
    {
     "name": "stdout",
     "output_type": "stream",
     "text": [
      "Overwriting scripts/setup.py\n"
     ]
    }
   ],
   "source": [
    "%%file scripts/setup.py\n",
    "from distutils.core import setup\n",
    "from Cython.Build import cythonize\n",
    "\n",
    "setup(ext_modules = cythonize(\"scripts/ffmax_0.pyx\", \n",
    "                              compiler_directives={'language_level' : 3}))"
   ]
  },
  {
   "cell_type": "markdown",
   "id": "d88efbac",
   "metadata": {},
   "source": [
    "### Compilación desde línea de comandos"
   ]
  },
  {
   "cell_type": "code",
   "execution_count": 19,
   "id": "01ee337c",
   "metadata": {},
   "outputs": [
    {
     "name": "stdout",
     "output_type": "stream",
     "text": [
      "Compiling scripts/ffmax_0.pyx because it changed.\n",
      "[1/1] Cythonizing scripts/ffmax_0.pyx\n",
      "running build_ext\n",
      "building 'ffmax_0' extension\n",
      "x86_64-linux-gnu-gcc -pthread -Wno-unused-result -Wsign-compare -DNDEBUG -g -fwrapv -O2 -Wall -g -fstack-protector-strong -Wformat -Werror=format-security -g -fwrapv -O2 -g -fstack-protector-strong -Wformat -Werror=format-security -Wdate-time -D_FORTIFY_SOURCE=2 -fPIC -I/usr/include/python3.8 -c scripts/ffmax_0.c -o build/temp.linux-x86_64-3.8/scripts/ffmax_0.o\n",
      "x86_64-linux-gnu-gcc -pthread -shared -Wl,-O1 -Wl,-Bsymbolic-functions -Wl,-Bsymbolic-functions -Wl,-z,relro -g -fwrapv -O2 -Wl,-Bsymbolic-functions -Wl,-z,relro -g -fwrapv -O2 -g -fstack-protector-strong -Wformat -Werror=format-security -Wdate-time -D_FORTIFY_SOURCE=2 build/temp.linux-x86_64-3.8/scripts/ffmax_0.o -o /home/ubuntu/practica-2-segunda-parte-diramtz/ffmax_0.cpython-38-x86_64-linux-gnu.so\n"
     ]
    }
   ],
   "source": [
    "%%bash\n",
    "python3 scripts/setup.py build_ext --inplace"
   ]
  },
  {
   "cell_type": "markdown",
   "id": "c86f77ea",
   "metadata": {},
   "source": [
    "## Importar y probar el módulo\n",
    "Probamos el módulo con nuestro ejemplo base."
   ]
  },
  {
   "cell_type": "code",
   "execution_count": 33,
   "id": "e0e615b7",
   "metadata": {},
   "outputs": [],
   "source": [
    "import ffmax_0 as ff\n",
    "import time\n",
    "import networkx as nx\n",
    "from pytest import approx"
   ]
  },
  {
   "cell_type": "code",
   "execution_count": 38,
   "id": "e7beace5",
   "metadata": {},
   "outputs": [],
   "source": [
    "start_time = time.time()\n",
    "\n",
    "red = ff.create_flow_network()\n",
    "\n",
    "red.create_vertex('o', True, False) \n",
    "red.create_vertex('t', False, True) \n",
    "red.create_vertex('a', False, False)\n",
    "red.create_vertex('b', False, False)\n",
    "red.create_vertex('c', False, False)\n",
    "red.create_vertex('d', False, False)\n",
    "red.create_vertex('e', False, False)\n",
    "\n",
    "red.create_edge('o', 'a', 5)\n",
    "red.create_edge('o', 'b', 7)\n",
    "red.create_edge('o', 'c', 4)\n",
    "\n",
    "red.create_edge('a', 'b', 1)\n",
    "red.create_edge('a', 'd', 3)\n",
    "\n",
    "red.create_edge('b', 'c', 2)\n",
    "red.create_edge('b', 'd', 4)\n",
    "red.create_edge('b', 'e', 5)\n",
    "\n",
    "red.create_edge('c', 'e', 4)\n",
    "\n",
    "red.create_edge('d', 't', 9)\n",
    "\n",
    "red.create_edge('e', 'd', 1)\n",
    "red.create_edge('e', 't', 9)\n",
    "\n",
    "red.MaxFlow()\n",
    "\n",
    "end_time = time.time()"
   ]
  },
  {
   "cell_type": "code",
   "execution_count": 39,
   "id": "9e39db38",
   "metadata": {},
   "outputs": [
    {
     "name": "stdout",
     "output_type": "stream",
     "text": [
      "El ejemplo base tomó 0.0008759498596191406 segundos\n"
     ]
    }
   ],
   "source": [
    "secs = end_time-start_time\n",
    "print(\"El ejemplo base tomó\",secs,\"segundos\" )"
   ]
  },
  {
   "cell_type": "markdown",
   "id": "843e59bb",
   "metadata": {},
   "source": [
    "Y verificamos que continuamos resolviendo el problema de manera correcta."
   ]
  },
  {
   "cell_type": "code",
   "execution_count": 40,
   "id": "ffd1bc6f",
   "metadata": {},
   "outputs": [],
   "source": [
    "G = nx.DiGraph()\n",
    "\n",
    "G.add_edge('o', 'a', capacity=5)\n",
    "G.add_edge('o', 'b', capacity=7)\n",
    "G.add_edge('o', 'c', capacity=4)\n",
    "\n",
    "G.add_edge('a', 'b', capacity=1)\n",
    "G.add_edge('a', 'd', capacity=3)\n",
    "\n",
    "G.add_edge('b', 'c', capacity=2)\n",
    "G.add_edge('b', 'd', capacity=4)\n",
    "G.add_edge('b', 'e', capacity=5)\n",
    "\n",
    "G.add_edge('c', 'e', capacity=4)\n",
    "\n",
    "G.add_edge('d', 't', capacity=9)\n",
    "\n",
    "G.add_edge('e', 'd', capacity=1)\n",
    "G.add_edge('e', 't', capacity=9)\n",
    "\n",
    "flow_value, flow_dict = nx.maximum_flow(G, 'o', 't')"
   ]
  },
  {
   "cell_type": "code",
   "execution_count": 41,
   "id": "e7b91f2b",
   "metadata": {},
   "outputs": [
    {
     "data": {
      "text/plain": [
       "15"
      ]
     },
     "execution_count": 41,
     "metadata": {},
     "output_type": "execute_result"
    }
   ],
   "source": [
    "flow_value"
   ]
  },
  {
   "cell_type": "code",
   "execution_count": 42,
   "id": "eba31f80",
   "metadata": {},
   "outputs": [
    {
     "data": {
      "text/plain": [
       "15"
      ]
     },
     "execution_count": 42,
     "metadata": {},
     "output_type": "execute_result"
    }
   ],
   "source": [
    "red.MaxFlow()"
   ]
  },
  {
   "cell_type": "code",
   "execution_count": 43,
   "id": "f84e2ea0",
   "metadata": {},
   "outputs": [
    {
     "name": "stdout",
     "output_type": "stream",
     "text": [
      "True\n"
     ]
    }
   ],
   "source": [
    "obj = flow_value\n",
    "res = red.MaxFlow()\n",
    "print(res == approx(obj))"
   ]
  },
  {
   "cell_type": "code",
   "execution_count": null,
   "id": "6bd00bab",
   "metadata": {},
   "outputs": [],
   "source": []
  }
 ],
 "metadata": {
  "kernelspec": {
   "display_name": "Python 3",
   "language": "python",
   "name": "python3"
  },
  "language_info": {
   "codemirror_mode": {
    "name": "ipython",
    "version": 3
   },
   "file_extension": ".py",
   "mimetype": "text/x-python",
   "name": "python",
   "nbconvert_exporter": "python",
   "pygments_lexer": "ipython3",
   "version": "3.8.5"
  },
  "toc-autonumbering": false,
  "toc-showmarkdowntxt": false
 },
 "nbformat": 4,
 "nbformat_minor": 5
}
