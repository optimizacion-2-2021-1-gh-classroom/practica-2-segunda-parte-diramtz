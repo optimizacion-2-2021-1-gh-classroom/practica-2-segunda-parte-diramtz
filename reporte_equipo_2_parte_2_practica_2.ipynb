{
 "cells": [
  {
   "cell_type": "markdown",
   "metadata": {},
   "source": [
    "# Reporte Práctica 2 Parte 2\n",
    "## Optimización de Código"
   ]
  },
  {
   "cell_type": "markdown",
   "metadata": {},
   "source": [
    "Primero realizamos el perfilamiento de tiempo de procesamiento para nuestro paquete robustecido de la parte anterior de la práctica 2, el cual se encuentra en el archivo `perfilamiento.ipynb`, para conocer las partes del código que tardan más tiempo en correr.\n",
    "\n",
    "La reimplementación se realizó con ayuda de las anotaciones en html de cython, que se encuentran en `reimplementación_c.ipynb`.\n",
    "\n",
    "### Ejemplo base\n",
    "\n",
    "Para el código original:"
   ]
  },
  {
   "cell_type": "code",
   "execution_count": 1,
   "metadata": {},
   "outputs": [],
   "source": [
    "import time\n",
    "import networkx as nx\n",
    "from pytest import approx"
   ]
  },
  {
   "cell_type": "code",
   "execution_count": 16,
   "metadata": {},
   "outputs": [],
   "source": [
    "import ffmaxflow as ff"
   ]
  },
  {
   "cell_type": "code",
   "execution_count": 17,
   "metadata": {},
   "outputs": [],
   "source": [
    "start_time = time.time()\n",
    "\n",
    "red = ff.create_flow_network()\n",
    "\n",
    "red.create_vertex('o', True, False) \n",
    "red.create_vertex('t', False, True) \n",
    "red.create_vertex('a', False, False)\n",
    "red.create_vertex('b', False, False)\n",
    "red.create_vertex('c', False, False)\n",
    "red.create_vertex('d', False, False)\n",
    "red.create_vertex('e', False, False)\n",
    "\n",
    "red.create_edge('o', 'a', 5)\n",
    "red.create_edge('o', 'b', 7)\n",
    "red.create_edge('o', 'c', 4)\n",
    "\n",
    "red.create_edge('a', 'b', 1)\n",
    "red.create_edge('a', 'd', 3)\n",
    "\n",
    "red.create_edge('b', 'c', 2)\n",
    "red.create_edge('b', 'd', 4)\n",
    "red.create_edge('b', 'e', 5)\n",
    "\n",
    "red.create_edge('c', 'e', 4)\n",
    "\n",
    "red.create_edge('d', 't', 9)\n",
    "\n",
    "red.create_edge('e', 'd', 1)\n",
    "red.create_edge('e', 't', 9)\n",
    "\n",
    "red.MaxFlow()\n",
    "\n",
    "end_time = time.time()"
   ]
  },
  {
   "cell_type": "code",
   "execution_count": 18,
   "metadata": {},
   "outputs": [
    {
     "name": "stdout",
     "output_type": "stream",
     "text": [
      "El ejemplo base tomó 0.0012810230255126953 segundos\n"
     ]
    }
   ],
   "source": [
    "secs_0 = end_time-start_time\n",
    "print(\"El ejemplo base tomó\",secs_0,\"segundos\" )"
   ]
  },
  {
   "cell_type": "markdown",
   "metadata": {},
   "source": [
    "Para el paquete reimplementado con compilación a C."
   ]
  },
  {
   "cell_type": "code",
   "execution_count": 11,
   "metadata": {},
   "outputs": [
    {
     "name": "stdout",
     "output_type": "stream",
     "text": [
      "Processing ./scripts\n",
      "Building wheels for collected packages: UNKNOWN\n",
      "  Building wheel for UNKNOWN (setup.py) ... \u001b[?25ldone\n",
      "\u001b[?25h  Created wheel for UNKNOWN: filename=UNKNOWN-0.0.0-cp38-cp38-linux_x86_64.whl size=250175 sha256=ec435307176517fb35e415b4f1e9c4cae77ef85b7da369a050c95973a4b20705\n",
      "  Stored in directory: /tmp/pip-ephem-wheel-cache-vn8yb7jg/wheels/b5/f6/a9/0cc9b85182f82722c563d4dddda2dbee22b5624804f7598335\n",
      "Successfully built UNKNOWN\n",
      "Installing collected packages: UNKNOWN\n",
      "  Attempting uninstall: UNKNOWN\n",
      "    Found existing installation: UNKNOWN 0.0.0\n",
      "    Uninstalling UNKNOWN-0.0.0:\n",
      "      Successfully uninstalled UNKNOWN-0.0.0\n",
      "Successfully installed UNKNOWN-0.0.0\n"
     ]
    }
   ],
   "source": [
    "!pip install scripts/"
   ]
  },
  {
   "cell_type": "code",
   "execution_count": 11,
   "metadata": {},
   "outputs": [],
   "source": [
    "import ffmaxc as ffc"
   ]
  },
  {
   "cell_type": "code",
   "execution_count": 12,
   "metadata": {},
   "outputs": [],
   "source": [
    "start_time = time.time()\n",
    "\n",
    "red = ffc.create_flow_network()\n",
    "\n",
    "red.create_vertex('o', True, False) \n",
    "red.create_vertex('t', False, True) \n",
    "red.create_vertex('a', False, False)\n",
    "red.create_vertex('b', False, False)\n",
    "red.create_vertex('c', False, False)\n",
    "red.create_vertex('d', False, False)\n",
    "red.create_vertex('e', False, False)\n",
    "\n",
    "red.create_edge('o', 'a', 5)\n",
    "red.create_edge('o', 'b', 7)\n",
    "red.create_edge('o', 'c', 4)\n",
    "\n",
    "red.create_edge('a', 'b', 1)\n",
    "red.create_edge('a', 'd', 3)\n",
    "\n",
    "red.create_edge('b', 'c', 2)\n",
    "red.create_edge('b', 'd', 4)\n",
    "red.create_edge('b', 'e', 5)\n",
    "\n",
    "red.create_edge('c', 'e', 4)\n",
    "\n",
    "red.create_edge('d', 't', 9)\n",
    "\n",
    "red.create_edge('e', 'd', 1)\n",
    "red.create_edge('e', 't', 9)\n",
    "\n",
    "red.MaxFlow()\n",
    "\n",
    "end_time = time.time()"
   ]
  },
  {
   "cell_type": "code",
   "execution_count": 13,
   "metadata": {},
   "outputs": [
    {
     "name": "stdout",
     "output_type": "stream",
     "text": [
      "El ejemplo base tomó 0.0010960102081298828 segundos\n"
     ]
    }
   ],
   "source": [
    "secs_c = end_time-start_time\n",
    "print(\"El ejemplo base tomó\",secs_0,\"segundos\" )"
   ]
  },
  {
   "cell_type": "markdown",
   "metadata": {},
   "source": [
    "Así, nuestro nuevo paquete es:"
   ]
  },
  {
   "cell_type": "code",
   "execution_count": 21,
   "metadata": {},
   "outputs": [
    {
     "name": "stdout",
     "output_type": "stream",
     "text": [
      "1.2571361722040244 veces más rápido que el original\n"
     ]
    }
   ],
   "source": [
    "print(\"{} veces más rápido que el original\".format(secs_0 / secs_c))"
   ]
  }
 ],
 "metadata": {
  "kernelspec": {
   "display_name": "Python 3",
   "language": "python",
   "name": "python3"
  },
  "language_info": {
   "codemirror_mode": {
    "name": "ipython",
    "version": 3
   },
   "file_extension": ".py",
   "mimetype": "text/x-python",
   "name": "python",
   "nbconvert_exporter": "python",
   "pygments_lexer": "ipython3",
   "version": "3.8.5"
  }
 },
 "nbformat": 4,
 "nbformat_minor": 4
}
