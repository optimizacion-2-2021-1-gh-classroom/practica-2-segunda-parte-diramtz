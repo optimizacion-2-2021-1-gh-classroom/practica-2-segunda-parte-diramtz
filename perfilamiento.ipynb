{
 "cells": [
  {
   "cell_type": "markdown",
   "metadata": {
    "tags": []
   },
   "source": [
    "## Perfilamiento del paquete ffmaxflow"
   ]
  },
  {
   "cell_type": "markdown",
   "metadata": {
    "tags": []
   },
   "source": [
    "La máquina `m4.2xlarge` tiene las siguientes características:"
   ]
  },
  {
   "cell_type": "code",
   "execution_count": 1,
   "metadata": {},
   "outputs": [
    {
     "name": "stdout",
     "output_type": "stream",
     "text": [
      "Architecture:        x86_64\n",
      "CPU op-mode(s):      32-bit, 64-bit\n",
      "Byte Order:          Little Endian\n",
      "CPU(s):              8\n",
      "On-line CPU(s) list: 0-7\n",
      "Thread(s) per core:  2\n",
      "Core(s) per socket:  4\n",
      "Socket(s):           1\n",
      "NUMA node(s):        1\n",
      "Vendor ID:           GenuineIntel\n",
      "CPU family:          6\n",
      "Model:               85\n",
      "Model name:          Intel(R) Xeon(R) Platinum 8259CL CPU @ 2.50GHz\n",
      "Stepping:            7\n",
      "CPU MHz:             3100.008\n",
      "BogoMIPS:            5000.00\n",
      "Hypervisor vendor:   KVM\n",
      "Virtualization type: full\n",
      "L1d cache:           32K\n",
      "L1i cache:           32K\n",
      "L2 cache:            1024K\n",
      "L3 cache:            36608K\n",
      "NUMA node0 CPU(s):   0-7\n",
      "Flags:               fpu vme de pse tsc msr pae mce cx8 apic sep mtrr pge mca cmov pat pse36 clflush mmx fxsr sse sse2 ss ht syscall nx pdpe1gb rdtscp lm constant_tsc rep_good nopl xtopology nonstop_tsc cpuid aperfmperf tsc_known_freq pni pclmulqdq ssse3 fma cx16 pcid sse4_1 sse4_2 x2apic movbe popcnt tsc_deadline_timer aes xsave avx f16c rdrand hypervisor lahf_lm abm 3dnowprefetch invpcid_single pti fsgsbase tsc_adjust bmi1 avx2 smep bmi2 erms invpcid mpx avx512f avx512dq rdseed adx smap clflushopt clwb avx512cd avx512bw avx512vl xsaveopt xsavec xgetbv1 xsaves ida arat pku ospke\n"
     ]
    }
   ],
   "source": [
    "%%bash\n",
    "lscpu"
   ]
  },
  {
   "cell_type": "code",
   "execution_count": 3,
   "metadata": {},
   "outputs": [
    {
     "name": "stdout",
     "output_type": "stream",
     "text": [
      "Linux jupyterlab-opt-0-1-hostpath-pv-86dff5567f-wztxj 4.19.0-8-amd64 #1 SMP Debian 4.19.98-1 (2020-01-26) x86_64 x86_64 x86_64 GNU/Linux\n"
     ]
    }
   ],
   "source": [
    "%%bash\n",
    "uname -ar #r for kernel, a for all"
   ]
  },
  {
   "cell_type": "markdown",
   "metadata": {
    "tags": []
   },
   "source": [
    "## Objetivo"
   ]
  },
  {
   "cell_type": "code",
   "execution_count": 8,
   "metadata": {},
   "outputs": [],
   "source": [
    "import ffmaxflow as ff\n",
    "import networkx as nx\n",
    "from pytest import approx\n",
    "from IPython.display import HTML, display"
   ]
  },
  {
   "cell_type": "code",
   "execution_count": 7,
   "metadata": {},
   "outputs": [
    {
     "data": {
      "text/plain": [
       "15"
      ]
     },
     "execution_count": 7,
     "metadata": {},
     "output_type": "execute_result"
    }
   ],
   "source": [
    "red = ff.create_flow_network()\n",
    "\n",
    "red.create_vertex('o', True, False) \n",
    "red.create_vertex('t', False, True) \n",
    "red.create_vertex('a', False, False)\n",
    "red.create_vertex('b', False, False)\n",
    "red.create_vertex('c', False, False)\n",
    "red.create_vertex('d', False, False)\n",
    "red.create_vertex('e', False, False)\n",
    "\n",
    "red.create_edge('o', 'a', 5)\n",
    "red.create_edge('o', 'b', 7)\n",
    "red.create_edge('o', 'c', 4)\n",
    "\n",
    "red.create_edge('a', 'b', 1)\n",
    "red.create_edge('a', 'd', 3)\n",
    "\n",
    "red.create_edge('b', 'c', 2)\n",
    "red.create_edge('b', 'd', 4)\n",
    "red.create_edge('b', 'e', 5)\n",
    "\n",
    "red.create_edge('c', 'e', 4)\n",
    "\n",
    "red.create_edge('d', 't', 9)\n",
    "\n",
    "red.create_edge('e', 'd', 1)\n",
    "red.create_edge('e', 't', 9)\n",
    "\n",
    "red.MaxFlow()"
   ]
  },
  {
   "cell_type": "markdown",
   "metadata": {
    "tags": []
   },
   "source": [
    "## Perfilamiento: medición de tiempo en Python y IPython\n",
    "\n",
    "Lo más natural que podemos pensar en medir es el tiempo de ejecución de nuestros códigos. Python y IPython tienen herramientas para este propósito.\n",
    "\n",
    "**Módulo: time**"
   ]
  },
  {
   "cell_type": "code",
   "execution_count": 9,
   "metadata": {},
   "outputs": [],
   "source": [
    "import time"
   ]
  },
  {
   "cell_type": "code",
   "execution_count": 14,
   "metadata": {},
   "outputs": [],
   "source": [
    "start_time = time.time()\n",
    "\n",
    "red = ff.create_flow_network()\n",
    "\n",
    "red.create_vertex('o', True, False) \n",
    "red.create_vertex('t', False, True) \n",
    "red.create_vertex('a', False, False)\n",
    "red.create_vertex('b', False, False)\n",
    "red.create_vertex('c', False, False)\n",
    "red.create_vertex('d', False, False)\n",
    "red.create_vertex('e', False, False)\n",
    "\n",
    "red.create_edge('o', 'a', 5)\n",
    "red.create_edge('o', 'b', 7)\n",
    "red.create_edge('o', 'c', 4)\n",
    "\n",
    "red.create_edge('a', 'b', 1)\n",
    "red.create_edge('a', 'd', 3)\n",
    "\n",
    "red.create_edge('b', 'c', 2)\n",
    "red.create_edge('b', 'd', 4)\n",
    "red.create_edge('b', 'e', 5)\n",
    "\n",
    "red.create_edge('c', 'e', 4)\n",
    "\n",
    "red.create_edge('d', 't', 9)\n",
    "\n",
    "red.create_edge('e', 'd', 1)\n",
    "red.create_edge('e', 't', 9)\n",
    "\n",
    "max_flow = red.MaxFlow()\n",
    "\n",
    "end_time = time.time()"
   ]
  },
  {
   "cell_type": "code",
   "execution_count": 11,
   "metadata": {},
   "outputs": [
    {
     "name": "stdout",
     "output_type": "stream",
     "text": [
      "El cálculo del flujo máximo tomó 0.0006959438323974609 segundos\n"
     ]
    }
   ],
   "source": [
    "secs = end_time-start_time\n",
    "print(\"El cálculo del flujo máximo tomó\",secs,\"segundos\" )"
   ]
  },
  {
   "cell_type": "markdown",
   "metadata": {
    "tags": []
   },
   "source": [
    "Prueba que el paquete resuelve correctamente el problema con la función maximum_flow del paquete networkx"
   ]
  },
  {
   "cell_type": "code",
   "execution_count": 12,
   "metadata": {},
   "outputs": [],
   "source": [
    "G = nx.DiGraph()\n",
    "\n",
    "G.add_edge('o', 'a', capacity=5)\n",
    "G.add_edge('o', 'b', capacity=7)\n",
    "G.add_edge('o', 'c', capacity=4)\n",
    "\n",
    "G.add_edge('a', 'b', capacity=1)\n",
    "G.add_edge('a', 'd', capacity=3)\n",
    "\n",
    "G.add_edge('b', 'c', capacity=2)\n",
    "G.add_edge('b', 'd', capacity=4)\n",
    "G.add_edge('b', 'e', capacity=5)\n",
    "\n",
    "G.add_edge('c', 'e', capacity=4)\n",
    "\n",
    "G.add_edge('d', 't', capacity=9)\n",
    "\n",
    "G.add_edge('e', 'd', capacity=1)\n",
    "G.add_edge('e', 't', capacity=9)\n",
    "\n",
    "flow_value, flow_dict = nx.maximum_flow(G, 'o', 't')"
   ]
  },
  {
   "cell_type": "code",
   "execution_count": 16,
   "metadata": {},
   "outputs": [
    {
     "name": "stdout",
     "output_type": "stream",
     "text": [
      "True\n"
     ]
    }
   ],
   "source": [
    "print(flow_value == approx(max_flow))"
   ]
  },
  {
   "cell_type": "markdown",
   "metadata": {
    "tags": []
   },
   "source": [
    "**Comando de magic: %time**\n",
    "\n",
    "Este comando nos regresa las mediciones siguientes:\n",
    "\n",
    "**CPU times** que contiene:\n",
    "\n",
    "* user: mide la cantidad de tiempo de los statements que la CPU gastó para funciones que no están relacionadas con el kernel del sistema.\n",
    "\n",
    "* sys: mide la cantidad de tiempo de los statements que la CPU gastó en funciones a nivel de kernel del sistema.\n",
    "\n",
    "* total: suma entre el user y sys para todos todos los cores.\n",
    "\n",
    "**Wall time:** mide el wall clock o elapsed time que se refiere al tiempo desde que inicia la ejecución de los statements hasta su finalización.\n",
    "\n",
    "**Out:** resultado.\n"
   ]
  },
  {
   "cell_type": "code",
   "execution_count": 17,
   "metadata": {},
   "outputs": [
    {
     "name": "stdout",
     "output_type": "stream",
     "text": [
      "CPU times: user 4 µs, sys: 1 µs, total: 5 µs\n",
      "Wall time: 9.3 µs\n"
     ]
    },
    {
     "data": {
      "text/plain": [
       "15"
      ]
     },
     "execution_count": 17,
     "metadata": {},
     "output_type": "execute_result"
    }
   ],
   "source": [
    "%time \n",
    "red = ff.create_flow_network()\n",
    "\n",
    "red.create_vertex('o', True, False) \n",
    "red.create_vertex('t', False, True) \n",
    "red.create_vertex('a', False, False)\n",
    "red.create_vertex('b', False, False)\n",
    "red.create_vertex('c', False, False)\n",
    "red.create_vertex('d', False, False)\n",
    "red.create_vertex('e', False, False)\n",
    "\n",
    "red.create_edge('o', 'a', 5)\n",
    "red.create_edge('o', 'b', 7)\n",
    "red.create_edge('o', 'c', 4)\n",
    "\n",
    "red.create_edge('a', 'b', 1)\n",
    "red.create_edge('a', 'd', 3)\n",
    "\n",
    "red.create_edge('b', 'c', 2)\n",
    "red.create_edge('b', 'd', 4)\n",
    "red.create_edge('b', 'e', 5)\n",
    "\n",
    "red.create_edge('c', 'e', 4)\n",
    "\n",
    "red.create_edge('d', 't', 9)\n",
    "\n",
    "red.create_edge('e', 'd', 1)\n",
    "red.create_edge('e', 't', 9)\n",
    "\n",
    "red.MaxFlow()\n"
   ]
  },
  {
   "cell_type": "markdown",
   "metadata": {
    "tags": []
   },
   "source": [
    "* Tardó 4 milisegundos para funciones que no están relacionadas con el kernel del sistema.\n",
    "* Tadró 1 milisegundos para funciones a nivel kernel del sistema.\n",
    "* Tentiendo un total de 5 milisegundos unidades de tiempo.\n",
    "* Tardó 9.3 milisegundos desde el inicio hasta el fin de la ejecución de la función."
   ]
  },
  {
   "cell_type": "markdown",
   "metadata": {
    "tags": []
   },
   "source": [
    "**Timeit**"
   ]
  },
  {
   "cell_type": "markdown",
   "metadata": {
    "tags": []
   },
   "source": [
    "Al medir tiempos de ejecución, siempre hay variación en la medición por lo que se recomienda realizar las mediciones un número repetido de veces. Para este caso Timeit nos ayuda.\n",
    "\n",
    "Se ejecuta desde la línea de comandos, con el comando de magic `%timeit` o realizando import.\n",
    "\n",
    "A continuación se mide el tiempo de ejecución de las funciones que conforman el paquete` ffmaxflow`. Se promedian los tiempos de $n=5$\n",
    "ejecuciones y se calcula su desviación estándar. Se reptite lo anterior $r=10$ veces y se reporta el mejor resultado."
   ]
  },
  {
   "cell_type": "code",
   "execution_count": 23,
   "metadata": {},
   "outputs": [],
   "source": [
    "import timeit"
   ]
  },
  {
   "cell_type": "code",
   "execution_count": 24,
   "metadata": {},
   "outputs": [],
   "source": [
    "start = timeit.timeit()\n",
    "\n",
    "red = ff.create_flow_network()\n",
    "\n",
    "red.create_vertex('o', True, False) \n",
    "red.create_vertex('t', False, True) \n",
    "red.create_vertex('a', False, False)\n",
    "red.create_vertex('b', False, False)\n",
    "red.create_vertex('c', False, False)\n",
    "red.create_vertex('d', False, False)\n",
    "red.create_vertex('e', False, False)\n",
    "\n",
    "red.create_edge('o', 'a', 5)\n",
    "red.create_edge('o', 'b', 7)\n",
    "red.create_edge('o', 'c', 4)\n",
    "\n",
    "red.create_edge('a', 'b', 1)\n",
    "red.create_edge('a', 'd', 3)\n",
    "\n",
    "red.create_edge('b', 'c', 2)\n",
    "red.create_edge('b', 'd', 4)\n",
    "red.create_edge('b', 'e', 5)\n",
    "\n",
    "red.create_edge('c', 'e', 4)\n",
    "\n",
    "red.create_edge('d', 't', 9)\n",
    "\n",
    "red.create_edge('e', 'd', 1)\n",
    "red.create_edge('e', 't', 9)\n",
    "\n",
    "red.MaxFlow()\n",
    "\n",
    "end = timeit.timeit()"
   ]
  },
  {
   "cell_type": "code",
   "execution_count": 25,
   "metadata": {},
   "outputs": [
    {
     "name": "stdout",
     "output_type": "stream",
     "text": [
      "El cálculo del flujo máximo tomó -0.000471755000489793 segundos\n"
     ]
    }
   ],
   "source": [
    "secs = end-start\n",
    "print(\"El cálculo del flujo máximo tomó\",secs,\"segundos\" )"
   ]
  },
  {
   "cell_type": "markdown",
   "metadata": {
    "tags": []
   },
   "source": [
    "**cProfile**\n",
    "\n",
    "cProfile está en la standard-library de Python como built-in. Se utiliza con la implementación CPython de Python para medir el tiempo de ejecución de cada función en el programa. Se ejecuta desde la línea de comandos, con un comando de magic o realizando import.\n",
    "\n",
    "El output de cProfile muestra:\n",
    "\n",
    "* El tiempo total de ejecución, el cual incluye el tiempo del bloque de código que estamos midiendo y el overhead al usar cProfile. Por esta razón se tiene un mayor tiempo de ejecución que con las mediciones de tiempo anteriores.\n",
    "\n",
    "* La columna ncalls que como el nombre indica, muestra el número de veces que se llamó a cada función. En este caso las funciones lambda y math.exp son las que se llaman un mayor número de veces: $n=106$ veces.\n",
    "\n",
    "* La columna tottime muestra el tiempo que tardaron estas funciones en ejecutarse (sin llamar a otras funciones).\n",
    "\n",
    "* La columna percall es el cociente entre tottime y ncalls.\n",
    "\n",
    "* La columna cumtime contiene el tiempo gastado en la función y en las demás que llama. \n",
    "\n",
    "* La columna de percall es un cociente entre la columna cumtime y el conteo del número de veces que se llamaron a funciones primitivas o también nombradas built in functions.\n",
    "\n",
    "* La última columna indica información de la función y la línea en la que se encuentra dentro del código. "
   ]
  },
  {
   "cell_type": "code",
   "execution_count": 26,
   "metadata": {},
   "outputs": [],
   "source": [
    "import cProfile"
   ]
  },
  {
   "cell_type": "code",
   "execution_count": 51,
   "metadata": {},
   "outputs": [
    {
     "name": "stdout",
     "output_type": "stream",
     "text": [
      "         1026 function calls (813 primitive calls) in 0.001 seconds\n",
      "\n",
      "   Ordered by: call count\n",
      "\n",
      "   ncalls  tottime  percall  cumtime  percall filename:lineno(function)\n",
      "   229/16    0.000    0.000    0.000    0.000 __init__.py:172(get_path)\n",
      "      128    0.000    0.000    0.000    0.000 __init__.py:217(<genexpr>)\n",
      "       44    0.000    0.000    0.000    0.000 {built-in method builtins.getattr}\n",
      "       44    0.000    0.000    0.000    0.000 {built-in method builtins.next}\n",
      "       44    0.000    0.000    0.000    0.000 compilerop.py:138(extra_flags)\n",
      "       31    0.000    0.000    0.000    0.000 {method 'append' of 'list' objects}\n",
      "       31    0.000    0.000    0.000    0.000 __init__.py:80(vertex_in_network)\n",
      "       24    0.000    0.000    0.000    0.000 __init__.py:66(get_vertex)\n",
      "       24    0.000    0.000    0.000    0.000 __init__.py:26(__init__)\n",
      "       22    0.000    0.000    0.000    0.000 {built-in method builtins.compile}\n",
      "       22    0.000    0.000    0.001    0.000 {built-in method builtins.exec}\n",
      "       22    0.000    0.000    0.000    0.000 hooks.py:103(__call__)\n",
      "       22    0.000    0.000    0.000    0.000 hooks.py:168(pre_run_code_hook)\n",
      "       22    0.000    0.000    0.000    0.000 interactiveshell.py:3244(compare)\n",
      "       22    0.000    0.000    0.001    0.000 interactiveshell.py:3302(run_code)\n",
      "       22    0.000    0.000    0.000    0.000 interactiveshell.py:117(<lambda>)\n",
      "       22    0.000    0.000    0.000    0.000 interactiveshell.py:1276(user_global_ns)\n",
      "       22    0.000    0.000    0.000    0.000 codeop.py:132(__call__)\n",
      "       22    0.000    0.000    0.000    0.000 ipstruct.py:125(__getattr__)\n",
      "       22    0.000    0.000    0.000    0.000 traitlets.py:526(get)\n",
      "       22    0.000    0.000    0.000    0.000 traitlets.py:545(__get__)\n",
      "       22    0.000    0.000    0.000    0.000 contextlib.py:85(__exit__)\n",
      "       22    0.000    0.000    0.000    0.000 contextlib.py:157(helper)\n",
      "       22    0.000    0.000    0.000    0.000 contextlib.py:79(__enter__)\n",
      "       22    0.000    0.000    0.000    0.000 contextlib.py:59(__init__)\n",
      "       15    0.000    0.000    0.000    0.000 {built-in method builtins.min}\n",
      "       12    0.000    0.000    0.000    0.000 __init__.py:138(create_edge)\n",
      "        7    0.000    0.000    0.000    0.000 __init__.py:109(create_vertex)\n",
      "        7    0.000    0.000    0.000    0.000 __init__.py:10(__init__)\n",
      "        4    0.000    0.000    0.000    0.000 __init__.py:222(<genexpr>)\n",
      "        2    0.000    0.000    0.000    0.000 __init__.py:56(get_sink)\n",
      "        2    0.000    0.000    0.000    0.000 __init__.py:46(get_source)\n",
      "        1    0.000    0.000    0.000    0.000 {built-in method builtins.sum}\n",
      "        1    0.000    0.000    0.000    0.000 <ipython-input-51-3fa2ea27c6e5>:4(<module>)\n",
      "        1    0.000    0.000    0.000    0.000 <ipython-input-51-3fa2ea27c6e5>:34(<module>)\n",
      "        1    0.000    0.000    0.001    0.001 <ipython-input-51-3fa2ea27c6e5>:32(<module>)\n",
      "        1    0.000    0.000    0.000    0.000 <ipython-input-51-3fa2ea27c6e5>:30(<module>)\n",
      "        1    0.000    0.000    0.000    0.000 <ipython-input-51-3fa2ea27c6e5>:29(<module>)\n",
      "        1    0.000    0.000    0.000    0.000 <ipython-input-51-3fa2ea27c6e5>:27(<module>)\n",
      "        1    0.000    0.000    0.000    0.000 <ipython-input-51-3fa2ea27c6e5>:25(<module>)\n",
      "        1    0.000    0.000    0.000    0.000 <ipython-input-51-3fa2ea27c6e5>:23(<module>)\n",
      "        1    0.000    0.000    0.000    0.000 <ipython-input-51-3fa2ea27c6e5>:22(<module>)\n",
      "        1    0.000    0.000    0.000    0.000 <ipython-input-51-3fa2ea27c6e5>:21(<module>)\n",
      "        1    0.000    0.000    0.000    0.000 <ipython-input-51-3fa2ea27c6e5>:19(<module>)\n",
      "        1    0.000    0.000    0.000    0.000 <ipython-input-51-3fa2ea27c6e5>:18(<module>)\n",
      "        1    0.000    0.000    0.000    0.000 <ipython-input-51-3fa2ea27c6e5>:16(<module>)\n",
      "        1    0.000    0.000    0.000    0.000 <ipython-input-51-3fa2ea27c6e5>:15(<module>)\n",
      "        1    0.000    0.000    0.000    0.000 <ipython-input-51-3fa2ea27c6e5>:14(<module>)\n",
      "        1    0.000    0.000    0.000    0.000 <ipython-input-51-3fa2ea27c6e5>:12(<module>)\n",
      "        1    0.000    0.000    0.000    0.000 <ipython-input-51-3fa2ea27c6e5>:11(<module>)\n",
      "        1    0.000    0.000    0.000    0.000 <ipython-input-51-3fa2ea27c6e5>:10(<module>)\n",
      "        1    0.000    0.000    0.000    0.000 <ipython-input-51-3fa2ea27c6e5>:9(<module>)\n",
      "        1    0.000    0.000    0.000    0.000 <ipython-input-51-3fa2ea27c6e5>:8(<module>)\n",
      "        1    0.000    0.000    0.001    0.001 __init__.py:197(MaxFlow)\n",
      "        1    0.000    0.000    0.000    0.000 <ipython-input-51-3fa2ea27c6e5>:7(<module>)\n",
      "        1    0.000    0.000    0.000    0.000 __init__.py:42(__init__)\n",
      "        1    0.000    0.000    0.000    0.000 <ipython-input-51-3fa2ea27c6e5>:6(<module>)\n",
      "        1    0.000    0.000    0.000    0.000 {method 'disable' of '_lsprof.Profiler' objects}\n",
      "\n",
      "\n"
     ]
    }
   ],
   "source": [
    "cprof = cProfile.Profile()\n",
    "cprof.enable()\n",
    "\n",
    "red = ff.create_flow_network()\n",
    "\n",
    "red.create_vertex('o', True, False) \n",
    "red.create_vertex('t', False, True) \n",
    "red.create_vertex('a', False, False)\n",
    "red.create_vertex('b', False, False)\n",
    "red.create_vertex('c', False, False)\n",
    "red.create_vertex('d', False, False)\n",
    "red.create_vertex('e', False, False)\n",
    "\n",
    "red.create_edge('o', 'a', 5)\n",
    "red.create_edge('o', 'b', 7)\n",
    "red.create_edge('o', 'c', 4)\n",
    "\n",
    "red.create_edge('a', 'b', 1)\n",
    "red.create_edge('a', 'd', 3)\n",
    "\n",
    "red.create_edge('b', 'c', 2)\n",
    "red.create_edge('b', 'd', 4)\n",
    "red.create_edge('b', 'e', 5)\n",
    "\n",
    "red.create_edge('c', 'e', 4)\n",
    "\n",
    "red.create_edge('d', 't', 9)\n",
    "\n",
    "red.create_edge('e', 'd', 1)\n",
    "red.create_edge('e', 't', 9)\n",
    "\n",
    "red.MaxFlow()\n",
    "\n",
    "cprof.disable()\n",
    "cprof.print_stats(sort='ncalls')"
   ]
  },
  {
   "cell_type": "markdown",
   "metadata": {
    "tags": []
   },
   "source": [
    "* Observamos que la función que fue llamada más veces fue `get_path` y la que menos fue llamada fue `MaxFlow` la cual solo obtiene el flujo máximo de la red\n",
    "* El tiempo total que tardaron estas funciones en correr insependientemente fueron 0 segundos para todas las funciones.\n"
   ]
  },
  {
   "cell_type": "markdown",
   "metadata": {
    "tags": []
   },
   "source": [
    "**line_profiler**\n",
    "\n",
    "Nos ayuda a perfilar el código línea por línea.\n",
    "\n",
    "Una buena idea es perfilar el código primero con cProfile para identificar aquellas funciones que gastan un mayor tiempo de ejecución y posteriormente perfilarlas con `line_profiler`.\n",
    "\n",
    "Se ejecuta desde la línea de comandos, con un comando de magic o realizando import.\n",
    "\n",
    "El output de `line_profiler` muestra:\n",
    "\n",
    "* Line #: el número de la línea.\n",
    "\n",
    "* Hits: el número de veces que la línea fue ejecutada.\n",
    "\n",
    "* Time el tiempo que tomó la ejecución de la línea. Las unidades en el que se mide el tiempo está en la primer línea: Timer unit.\n",
    "\n",
    "* Per Hit: el tiempo promedio que toma la ejecución de la línea una vez en timer's units.\n",
    "\n",
    "* % Time: el porcentaje de tiempo que toma la ejecución de la línea correspondiente al tiempo total de ejecución de la función.\n",
    "\n",
    "* Line contents: el código a perfilar.\n"
   ]
  },
  {
   "cell_type": "code",
   "execution_count": 35,
   "metadata": {},
   "outputs": [],
   "source": [
    "import line_profiler"
   ]
  },
  {
   "cell_type": "markdown",
   "metadata": {
    "tags": []
   },
   "source": [
    "**Función create_vertex**"
   ]
  },
  {
   "cell_type": "code",
   "execution_count": 62,
   "metadata": {},
   "outputs": [
    {
     "name": "stdout",
     "output_type": "stream",
     "text": [
      "None\n"
     ]
    }
   ],
   "source": [
    "red = ff.create_flow_network()\n",
    "\n",
    "line_prof = line_profiler.LineProfiler()\n",
    "\n",
    "print(line_prof(red.create_vertex)('o', True, False))"
   ]
  },
  {
   "cell_type": "code",
   "execution_count": 63,
   "metadata": {},
   "outputs": [
    {
     "name": "stdout",
     "output_type": "stream",
     "text": [
      "Timer unit: 1e-06 s\n",
      "\n",
      "Total time: 2.3e-05 s\n",
      "File: /usr/local/lib/python3.6/dist-packages/ffmaxflow/__init__.py\n",
      "Function: create_vertex at line 109\n",
      "\n",
      "Line #      Hits         Time  Per Hit   % Time  Line Contents\n",
      "==============================================================\n",
      "   109                                               def create_vertex(self, name, source=False, sink=False):\n",
      "   110                                                   \"\"\"\n",
      "   111                                                   Creates and adds a vertex to the network after it checks various\n",
      "   112                                                   error cases to ensure that the vertex can be added.\n",
      "   113                                                   Args:\n",
      "   114                                                       name (string): name or identifier of vertex_in_network\n",
      "   115                                                       source (bool): whether the vertex to add is source or not\n",
      "   116                                                       sink (bool): whether the vertex to add is sink or not\n",
      "   117                                                   Returns:\n",
      "   118                                                       (string): error message when error arises\n",
      "   119                                                   \"\"\"\n",
      "   120         1          3.0      3.0     13.0          if source == True and sink == True:\n",
      "   121                                                       return \"El nodo {} no puede ser origen y destino\".format(name)\n",
      "   122                                           \n",
      "   123         1          5.0      5.0     21.7          if self.vertex_in_network(name):\n",
      "   124                                                       return \"Nodo duplicado\"\n",
      "   125                                           \n",
      "   126         1          1.0      1.0      4.3          if source == True:\n",
      "   127         1          4.0      4.0     17.4              if self.get_source() != None:\n",
      "   128                                                           return \"Ya existe nodo origen\"\n",
      "   129                                           \n",
      "   130         1          1.0      1.0      4.3          if sink == True:\n",
      "   131                                                       if self.get_sink() != None:\n",
      "   132                                                           return \"Ya existe nodo destino\"\n",
      "   133                                           \n",
      "   134         1          5.0      5.0     21.7          newVertex = vertex(name, source, sink)\n",
      "   135         1          2.0      2.0      8.7          self.vertices.append(newVertex)\n",
      "   136         1          2.0      2.0      8.7          self.network[newVertex.name] = []\n",
      "\n",
      "None\n"
     ]
    }
   ],
   "source": [
    "print(line_prof.print_stats())"
   ]
  },
  {
   "cell_type": "markdown",
   "metadata": {
    "tags": []
   },
   "source": [
    "Para esta función la línea que mas tiempo tarda en correr es la 134, la cual hace referencia a `newVertex = vertex(name, source, sink)`,\n",
    "toma el 21.7% de tiempo"
   ]
  },
  {
   "cell_type": "markdown",
   "metadata": {
    "tags": []
   },
   "source": [
    "**Función create_edge**"
   ]
  },
  {
   "cell_type": "code",
   "execution_count": 64,
   "metadata": {},
   "outputs": [
    {
     "name": "stdout",
     "output_type": "stream",
     "text": [
      "Nodo destino ya ha sido agregado\n"
     ]
    }
   ],
   "source": [
    "line_prof = line_profiler.LineProfiler()\n",
    "\n",
    "print(line_prof(red.create_edge)('o', 'c', 4))"
   ]
  },
  {
   "cell_type": "code",
   "execution_count": 65,
   "metadata": {},
   "outputs": [
    {
     "name": "stdout",
     "output_type": "stream",
     "text": [
      "Timer unit: 1e-06 s\n",
      "\n",
      "Total time: 8e-06 s\n",
      "File: /usr/local/lib/python3.6/dist-packages/ffmaxflow/__init__.py\n",
      "Function: create_edge at line 138\n",
      "\n",
      "Line #      Hits         Time  Per Hit   % Time  Line Contents\n",
      "==============================================================\n",
      "   138                                               def create_edge(self, start, end, capacity):\n",
      "   139                                                   \"\"\"\n",
      "   140                                                   Creates and adds a new edge to the flow network with capacity of 0\n",
      "   141                                                   by first checking the start and end vertices of said edge to\n",
      "   142                                                   verify that the are not the same vertex and that they are both in\n",
      "   143                                                   the network.\n",
      "   144                                                   Args:\n",
      "   145                                                       start (vertex): start vertex of the new edge\n",
      "   146                                                       end (vertex): end vertex of the new edge\n",
      "   147                                                       capacity (float): capcity of the new edge\n",
      "   148                                                   Returns:\n",
      "   149                                                       (string): error message when error arises\n",
      "   150                                                   \"\"\"\n",
      "   151                                           \n",
      "   152         1          5.0      5.0     62.5          if self.vertex_in_network(start) == False:\n",
      "   153                                                       return \"Nodo origen ya ha sido agregado\"\n",
      "   154                                           \n",
      "   155         1          2.0      2.0     25.0          elif self.vertex_in_network(end) == False:\n",
      "   156         1          1.0      1.0     12.5              return \"Nodo destino ya ha sido agregado\"\n",
      "   157                                                   \n",
      "   158                                                   elif start == end:\n",
      "   159                                                       print(\"'No se pueden tener bucles.'\")\n",
      "   160                                                       print(\"'El cálculo de flujo máximo continuará sin tomar en cuenta este arco.'\")\n",
      "   161                                                   \n",
      "   162                                                   else:\n",
      "   163                                                       newEdge = edge(start, end, capacity)\n",
      "   164                                                       returnEdge = edge(end, start, 0)\n",
      "   165                                                       newEdge.returnEdge = returnEdge\n",
      "   166                                                       returnEdge.returnEdge = newEdge\n",
      "   167                                                       vertex = self.get_vertex(start)\n",
      "   168                                                       self.network[vertex.name].append(newEdge)\n",
      "   169                                                       returnVertex = self.get_vertex(end)\n",
      "   170                                                       self.network[returnVertex.name].append(returnEdge)\n",
      "\n",
      "None\n"
     ]
    }
   ],
   "source": [
    "print(line_prof.print_stats())"
   ]
  },
  {
   "cell_type": "markdown",
   "metadata": {
    "tags": []
   },
   "source": [
    "Como nos sale el mesaje *Nodo destino ya ha sido agregado*, la línea que más tarda en correr es la 152, la cual hace referencia a la impresión de este warning"
   ]
  },
  {
   "cell_type": "markdown",
   "metadata": {
    "tags": []
   },
   "source": [
    "**Función MaxFlow**"
   ]
  },
  {
   "cell_type": "code",
   "execution_count": 66,
   "metadata": {},
   "outputs": [
    {
     "name": "stdout",
     "output_type": "stream",
     "text": [
      "La red no tiene nodo origen y/o destino \n"
     ]
    }
   ],
   "source": [
    "line_prof = line_profiler.LineProfiler()\n",
    "print(line_prof(red.MaxFlow)())"
   ]
  },
  {
   "cell_type": "code",
   "execution_count": 67,
   "metadata": {},
   "outputs": [
    {
     "name": "stdout",
     "output_type": "stream",
     "text": [
      "Timer unit: 1e-06 s\n",
      "\n",
      "Total time: 1.3e-05 s\n",
      "File: /usr/local/lib/python3.6/dist-packages/ffmaxflow/__init__.py\n",
      "Function: MaxFlow at line 197\n",
      "\n",
      "Line #      Hits         Time  Per Hit   % Time  Line Contents\n",
      "==============================================================\n",
      "   197                                               def MaxFlow(self):\n",
      "   198                                                   \"\"\"\n",
      "   199                                                   Follows the path returned by get_path and gets the maximum flow in the\n",
      "   200                                                   network. This function implements the Ford Fulkerson method and\n",
      "   201                                                   calculates the flow while the path is not fully walked. It sums this\n",
      "   202                                                   flow to the fordward edges and substracts it from the reverse edges.\n",
      "   203                                                   Then, another path is calculated and we repeat the process.\n",
      "   204                                                   Returns:\n",
      "   205                                                       (string): error message when an error in the definition of the\n",
      "   206                                                                 network occurs.\n",
      "   207                                                       (float): maximum flow through the network\n",
      "   208                                                   \"\"\"\n",
      "   209         1          7.0      7.0     53.8          source = self.get_source()\n",
      "   210         1          4.0      4.0     30.8          sink = self.get_sink()\n",
      "   211                                           \n",
      "   212         1          1.0      1.0      7.7          if source == None or sink == None:\n",
      "   213         1          1.0      1.0      7.7              return \"La red no tiene nodo origen y/o destino \"\n",
      "   214                                           \n",
      "   215                                                   path = self.get_path(source.name, sink.name, [])\n",
      "   216                                                   while path != None:\n",
      "   217                                                       flow = min(edge[1] for edge in path)\n",
      "   218                                                       for edge, res in path:\n",
      "   219                                                           edge.flow += flow\n",
      "   220                                                           edge.returnEdge.flow -= flow\n",
      "   221                                                       path = self.get_path(source.name, sink.name, [])\n",
      "   222                                                   return sum(edge.flow for edge in self.network[source.name])\n",
      "\n",
      "None\n"
     ]
    }
   ],
   "source": [
    "print(line_prof.print_stats())"
   ]
  },
  {
   "cell_type": "markdown",
   "metadata": {
    "tags": []
   },
   "source": [
    "* Notamos que las líneas 209, 210, 212, 213 fueron ejecutadas 1 vez.\n",
    "\n",
    "* La línea que tomó más tiempo en ejecutarse fue la 209 que hace referencia al camino `path = self.get_path(source.name, sink.name, [])`, esta misma línea toma el 53.8% de tiempo total de ejecución de la función. \n",
    "\n",
    "* La línea 210 `sink = self.get_sink()` toma el 30% de tiempo de ejecución \n",
    "* Las líneas 212 y 213 toman el 7.7% de tiempo de ejecución las cuales hacen referencia a un warning que aparece cuando no se han declarado nodos origen y/o destino\n"
   ]
  },
  {
   "cell_type": "markdown",
   "metadata": {
    "tags": []
   },
   "source": [
    "## Perfilamiento: medición de uso de memoria en Python\n",
    "\n",
    "Si bien las computadoras de hoy en día tienen una gran cantidad de RAM es importante que las aplicaciones no utilicen la totalidad pues en ese caso se tendrá una penalización en el performance de la aplicación al utilizar virtual memory."
   ]
  },
  {
   "cell_type": "markdown",
   "metadata": {
    "tags": []
   },
   "source": [
    "**memory_profiler**\n",
    "\n",
    "Se ejecuta desde la línea de comandos, con un comando de magic o realizando import. Al instalar memory_profiler se incluyen dos comandos de magic: %memit y %mprun. %mprun es similar a `line_profiler` al analizar línea por línea el uso de memoria.\n",
    "\n",
    "En el caso de import regresa una lista de valores de uso de memoria en MiB medidas cada cierto interval (argumento de memory_usage). En lo siguiente se pide que se regrese el máximo uso de memoria de la lista."
   ]
  },
  {
   "cell_type": "code",
   "execution_count": 42,
   "metadata": {},
   "outputs": [],
   "source": [
    "from memory_profiler import memory_usage"
   ]
  },
  {
   "cell_type": "code",
   "execution_count": 43,
   "metadata": {},
   "outputs": [],
   "source": [
    "%load_ext memory_profiler"
   ]
  },
  {
   "cell_type": "markdown",
   "metadata": {
    "tags": []
   },
   "source": [
    "%memit devuelve el pico de memoria usada en una celda de un jupyter notebook y utiliza las mismas ideas para reportar las mediciones que %timeit:"
   ]
  },
  {
   "cell_type": "code",
   "execution_count": 44,
   "metadata": {},
   "outputs": [
    {
     "name": "stdout",
     "output_type": "stream",
     "text": [
      "peak memory: 76.80 MiB, increment: 0.14 MiB\n"
     ]
    }
   ],
   "source": [
    "%memit "
   ]
  },
  {
   "cell_type": "code",
   "execution_count": 45,
   "metadata": {},
   "outputs": [
    {
     "name": "stdout",
     "output_type": "stream",
     "text": [
      "peak memory: 138.00 MiB, increment: 61.17 MiB\n"
     ]
    }
   ],
   "source": [
    "%memit -c red.MaxFlow()"
   ]
  },
  {
   "cell_type": "code",
   "execution_count": null,
   "metadata": {
    "tags": []
   },
   "outputs": [],
   "source": []
  },
  {
   "cell_type": "code",
   "execution_count": null,
   "metadata": {},
   "outputs": [],
   "source": []
  }
 ],
 "metadata": {
  "kernelspec": {
   "display_name": "Python 3",
   "language": "python",
   "name": "python3"
  },
  "kubeflow_notebook": {
   "autosnapshot": false,
   "docker_image": "",
   "experiment": {
    "id": "",
    "name": ""
   },
   "experiment_name": "",
   "katib_metadata": {
    "algorithm": {
     "algorithmName": "grid"
    },
    "maxFailedTrialCount": 3,
    "maxTrialCount": 12,
    "objective": {
     "objectiveMetricName": "",
     "type": "minimize"
    },
    "parallelTrialCount": 3,
    "parameters": []
   },
   "katib_run": false,
   "pipeline_description": "",
   "pipeline_name": "",
   "snapshot_volumes": false,
   "steps_defaults": [],
   "volume_access_mode": "rwm",
   "volumes": []
  },
  "language_info": {
   "codemirror_mode": {
    "name": "ipython",
    "version": 3
   },
   "file_extension": ".py",
   "mimetype": "text/x-python",
   "name": "python",
   "nbconvert_exporter": "python",
   "pygments_lexer": "ipython3",
   "version": "3.6.9"
  }
 },
 "nbformat": 4,
 "nbformat_minor": 4
}
